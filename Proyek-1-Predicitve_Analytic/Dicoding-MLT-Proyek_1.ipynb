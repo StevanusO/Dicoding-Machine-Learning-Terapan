{
  "cells": [
    {
      "cell_type": "code",
      "execution_count": null,
      "metadata": {
        "colab": {
          "base_uri": "https://localhost:8080/"
        },
        "id": "JSwbMZgGwp3y",
        "outputId": "655298c2-180a-4c27-ed81-24b01df23fd7"
      },
      "outputs": [
        {
          "output_type": "stream",
          "name": "stdout",
          "text": [
            "Looking in indexes: https://pypi.org/simple, https://us-python.pkg.dev/colab-wheels/public/simple/\n",
            "Collecting opendatasets\n",
            "  Downloading opendatasets-0.1.22-py3-none-any.whl (15 kB)\n",
            "Requirement already satisfied: tqdm in /usr/local/lib/python3.7/dist-packages (from opendatasets) (4.64.1)\n",
            "Requirement already satisfied: click in /usr/local/lib/python3.7/dist-packages (from opendatasets) (7.1.2)\n",
            "Requirement already satisfied: kaggle in /usr/local/lib/python3.7/dist-packages (from opendatasets) (1.5.12)\n",
            "Requirement already satisfied: python-slugify in /usr/local/lib/python3.7/dist-packages (from kaggle->opendatasets) (6.1.2)\n",
            "Requirement already satisfied: urllib3 in /usr/local/lib/python3.7/dist-packages (from kaggle->opendatasets) (1.24.3)\n",
            "Requirement already satisfied: requests in /usr/local/lib/python3.7/dist-packages (from kaggle->opendatasets) (2.23.0)\n",
            "Requirement already satisfied: six>=1.10 in /usr/local/lib/python3.7/dist-packages (from kaggle->opendatasets) (1.15.0)\n",
            "Requirement already satisfied: python-dateutil in /usr/local/lib/python3.7/dist-packages (from kaggle->opendatasets) (2.8.2)\n",
            "Requirement already satisfied: certifi in /usr/local/lib/python3.7/dist-packages (from kaggle->opendatasets) (2022.9.24)\n",
            "Requirement already satisfied: text-unidecode>=1.3 in /usr/local/lib/python3.7/dist-packages (from python-slugify->kaggle->opendatasets) (1.3)\n",
            "Requirement already satisfied: chardet<4,>=3.0.2 in /usr/local/lib/python3.7/dist-packages (from requests->kaggle->opendatasets) (3.0.4)\n",
            "Requirement already satisfied: idna<3,>=2.5 in /usr/local/lib/python3.7/dist-packages (from requests->kaggle->opendatasets) (2.10)\n",
            "Installing collected packages: opendatasets\n",
            "Successfully installed opendatasets-0.1.22\n",
            "Looking in indexes: https://pypi.org/simple, https://us-python.pkg.dev/colab-wheels/public/simple/\n",
            "Collecting contractions\n",
            "  Downloading contractions-0.1.73-py2.py3-none-any.whl (8.7 kB)\n",
            "Collecting textsearch>=0.0.21\n",
            "  Downloading textsearch-0.0.24-py2.py3-none-any.whl (7.6 kB)\n",
            "Collecting anyascii\n",
            "  Downloading anyascii-0.3.1-py3-none-any.whl (287 kB)\n",
            "\u001b[K     |████████████████████████████████| 287 kB 20.7 MB/s \n",
            "\u001b[?25hCollecting pyahocorasick\n",
            "  Downloading pyahocorasick-1.4.4-cp37-cp37m-manylinux_2_17_x86_64.manylinux2014_x86_64.whl (106 kB)\n",
            "\u001b[K     |████████████████████████████████| 106 kB 31.9 MB/s \n",
            "\u001b[?25hInstalling collected packages: pyahocorasick, anyascii, textsearch, contractions\n",
            "Successfully installed anyascii-0.3.1 contractions-0.1.73 pyahocorasick-1.4.4 textsearch-0.0.24\n",
            "Looking in indexes: https://pypi.org/simple, https://us-python.pkg.dev/colab-wheels/public/simple/\n",
            "Collecting tensorflow-gpu\n",
            "  Downloading tensorflow_gpu-2.11.0-cp37-cp37m-manylinux_2_17_x86_64.manylinux2014_x86_64.whl (588.3 MB)\n",
            "\u001b[K     |████████████████████████████████| 588.3 MB 7.2 kB/s \n",
            "\u001b[?25hCollecting flatbuffers>=2.0\n",
            "  Downloading flatbuffers-22.11.23-py2.py3-none-any.whl (26 kB)\n",
            "Requirement already satisfied: packaging in /usr/local/lib/python3.7/dist-packages (from tensorflow-gpu) (21.3)\n",
            "Requirement already satisfied: grpcio<2.0,>=1.24.3 in /usr/local/lib/python3.7/dist-packages (from tensorflow-gpu) (1.50.0)\n",
            "Requirement already satisfied: google-pasta>=0.1.1 in /usr/local/lib/python3.7/dist-packages (from tensorflow-gpu) (0.2.0)\n",
            "Requirement already satisfied: six>=1.12.0 in /usr/local/lib/python3.7/dist-packages (from tensorflow-gpu) (1.15.0)\n",
            "Collecting keras<2.12,>=2.11.0\n",
            "  Downloading keras-2.11.0-py2.py3-none-any.whl (1.7 MB)\n",
            "\u001b[K     |████████████████████████████████| 1.7 MB 54.5 MB/s \n",
            "\u001b[?25hRequirement already satisfied: numpy>=1.20 in /usr/local/lib/python3.7/dist-packages (from tensorflow-gpu) (1.21.6)\n",
            "Requirement already satisfied: setuptools in /usr/local/lib/python3.7/dist-packages (from tensorflow-gpu) (57.4.0)\n",
            "Requirement already satisfied: absl-py>=1.0.0 in /usr/local/lib/python3.7/dist-packages (from tensorflow-gpu) (1.3.0)\n",
            "Requirement already satisfied: termcolor>=1.1.0 in /usr/local/lib/python3.7/dist-packages (from tensorflow-gpu) (2.1.0)\n",
            "Requirement already satisfied: libclang>=13.0.0 in /usr/local/lib/python3.7/dist-packages (from tensorflow-gpu) (14.0.6)\n",
            "Requirement already satisfied: tensorflow-io-gcs-filesystem>=0.23.1 in /usr/local/lib/python3.7/dist-packages (from tensorflow-gpu) (0.27.0)\n",
            "Requirement already satisfied: protobuf<3.20,>=3.9.2 in /usr/local/lib/python3.7/dist-packages (from tensorflow-gpu) (3.19.6)\n",
            "Collecting tensorboard<2.12,>=2.11\n",
            "  Downloading tensorboard-2.11.0-py3-none-any.whl (6.0 MB)\n",
            "\u001b[K     |████████████████████████████████| 6.0 MB 48.1 MB/s \n",
            "\u001b[?25hRequirement already satisfied: typing-extensions>=3.6.6 in /usr/local/lib/python3.7/dist-packages (from tensorflow-gpu) (4.1.1)\n",
            "Requirement already satisfied: gast<=0.4.0,>=0.2.1 in /usr/local/lib/python3.7/dist-packages (from tensorflow-gpu) (0.4.0)\n",
            "Requirement already satisfied: wrapt>=1.11.0 in /usr/local/lib/python3.7/dist-packages (from tensorflow-gpu) (1.14.1)\n",
            "Requirement already satisfied: h5py>=2.9.0 in /usr/local/lib/python3.7/dist-packages (from tensorflow-gpu) (3.1.0)\n",
            "Collecting tensorflow-estimator<2.12,>=2.11.0\n",
            "  Downloading tensorflow_estimator-2.11.0-py2.py3-none-any.whl (439 kB)\n",
            "\u001b[K     |████████████████████████████████| 439 kB 66.4 MB/s \n",
            "\u001b[?25hRequirement already satisfied: astunparse>=1.6.0 in /usr/local/lib/python3.7/dist-packages (from tensorflow-gpu) (1.6.3)\n",
            "Requirement already satisfied: opt-einsum>=2.3.2 in /usr/local/lib/python3.7/dist-packages (from tensorflow-gpu) (3.3.0)\n",
            "Requirement already satisfied: wheel<1.0,>=0.23.0 in /usr/local/lib/python3.7/dist-packages (from astunparse>=1.6.0->tensorflow-gpu) (0.38.4)\n",
            "Requirement already satisfied: cached-property in /usr/local/lib/python3.7/dist-packages (from h5py>=2.9.0->tensorflow-gpu) (1.5.2)\n",
            "Requirement already satisfied: tensorboard-plugin-wit>=1.6.0 in /usr/local/lib/python3.7/dist-packages (from tensorboard<2.12,>=2.11->tensorflow-gpu) (1.8.1)\n",
            "Requirement already satisfied: google-auth-oauthlib<0.5,>=0.4.1 in /usr/local/lib/python3.7/dist-packages (from tensorboard<2.12,>=2.11->tensorflow-gpu) (0.4.6)\n",
            "Requirement already satisfied: requests<3,>=2.21.0 in /usr/local/lib/python3.7/dist-packages (from tensorboard<2.12,>=2.11->tensorflow-gpu) (2.23.0)\n",
            "Requirement already satisfied: markdown>=2.6.8 in /usr/local/lib/python3.7/dist-packages (from tensorboard<2.12,>=2.11->tensorflow-gpu) (3.4.1)\n",
            "Requirement already satisfied: werkzeug>=1.0.1 in /usr/local/lib/python3.7/dist-packages (from tensorboard<2.12,>=2.11->tensorflow-gpu) (1.0.1)\n",
            "Requirement already satisfied: tensorboard-data-server<0.7.0,>=0.6.0 in /usr/local/lib/python3.7/dist-packages (from tensorboard<2.12,>=2.11->tensorflow-gpu) (0.6.1)\n",
            "Requirement already satisfied: google-auth<3,>=1.6.3 in /usr/local/lib/python3.7/dist-packages (from tensorboard<2.12,>=2.11->tensorflow-gpu) (2.14.1)\n",
            "Requirement already satisfied: pyasn1-modules>=0.2.1 in /usr/local/lib/python3.7/dist-packages (from google-auth<3,>=1.6.3->tensorboard<2.12,>=2.11->tensorflow-gpu) (0.2.8)\n",
            "Requirement already satisfied: cachetools<6.0,>=2.0.0 in /usr/local/lib/python3.7/dist-packages (from google-auth<3,>=1.6.3->tensorboard<2.12,>=2.11->tensorflow-gpu) (5.2.0)\n",
            "Requirement already satisfied: rsa<5,>=3.1.4 in /usr/local/lib/python3.7/dist-packages (from google-auth<3,>=1.6.3->tensorboard<2.12,>=2.11->tensorflow-gpu) (4.9)\n",
            "Requirement already satisfied: requests-oauthlib>=0.7.0 in /usr/local/lib/python3.7/dist-packages (from google-auth-oauthlib<0.5,>=0.4.1->tensorboard<2.12,>=2.11->tensorflow-gpu) (1.3.1)\n",
            "Requirement already satisfied: importlib-metadata>=4.4 in /usr/local/lib/python3.7/dist-packages (from markdown>=2.6.8->tensorboard<2.12,>=2.11->tensorflow-gpu) (4.13.0)\n",
            "Requirement already satisfied: zipp>=0.5 in /usr/local/lib/python3.7/dist-packages (from importlib-metadata>=4.4->markdown>=2.6.8->tensorboard<2.12,>=2.11->tensorflow-gpu) (3.10.0)\n",
            "Requirement already satisfied: pyasn1<0.5.0,>=0.4.6 in /usr/local/lib/python3.7/dist-packages (from pyasn1-modules>=0.2.1->google-auth<3,>=1.6.3->tensorboard<2.12,>=2.11->tensorflow-gpu) (0.4.8)\n",
            "Requirement already satisfied: certifi>=2017.4.17 in /usr/local/lib/python3.7/dist-packages (from requests<3,>=2.21.0->tensorboard<2.12,>=2.11->tensorflow-gpu) (2022.9.24)\n",
            "Requirement already satisfied: idna<3,>=2.5 in /usr/local/lib/python3.7/dist-packages (from requests<3,>=2.21.0->tensorboard<2.12,>=2.11->tensorflow-gpu) (2.10)\n",
            "Requirement already satisfied: chardet<4,>=3.0.2 in /usr/local/lib/python3.7/dist-packages (from requests<3,>=2.21.0->tensorboard<2.12,>=2.11->tensorflow-gpu) (3.0.4)\n",
            "Requirement already satisfied: urllib3!=1.25.0,!=1.25.1,<1.26,>=1.21.1 in /usr/local/lib/python3.7/dist-packages (from requests<3,>=2.21.0->tensorboard<2.12,>=2.11->tensorflow-gpu) (1.24.3)\n",
            "Requirement already satisfied: oauthlib>=3.0.0 in /usr/local/lib/python3.7/dist-packages (from requests-oauthlib>=0.7.0->google-auth-oauthlib<0.5,>=0.4.1->tensorboard<2.12,>=2.11->tensorflow-gpu) (3.2.2)\n",
            "Requirement already satisfied: pyparsing!=3.0.5,>=2.0.2 in /usr/local/lib/python3.7/dist-packages (from packaging->tensorflow-gpu) (3.0.9)\n",
            "Installing collected packages: tensorflow-estimator, tensorboard, keras, flatbuffers, tensorflow-gpu\n",
            "  Attempting uninstall: tensorflow-estimator\n",
            "    Found existing installation: tensorflow-estimator 2.9.0\n",
            "    Uninstalling tensorflow-estimator-2.9.0:\n",
            "      Successfully uninstalled tensorflow-estimator-2.9.0\n",
            "  Attempting uninstall: tensorboard\n",
            "    Found existing installation: tensorboard 2.9.1\n",
            "    Uninstalling tensorboard-2.9.1:\n",
            "      Successfully uninstalled tensorboard-2.9.1\n",
            "  Attempting uninstall: keras\n",
            "    Found existing installation: keras 2.9.0\n",
            "    Uninstalling keras-2.9.0:\n",
            "      Successfully uninstalled keras-2.9.0\n",
            "  Attempting uninstall: flatbuffers\n",
            "    Found existing installation: flatbuffers 1.12\n",
            "    Uninstalling flatbuffers-1.12:\n",
            "      Successfully uninstalled flatbuffers-1.12\n",
            "\u001b[31mERROR: pip's dependency resolver does not currently take into account all the packages that are installed. This behaviour is the source of the following dependency conflicts.\n",
            "tensorflow 2.9.2 requires flatbuffers<2,>=1.12, but you have flatbuffers 22.11.23 which is incompatible.\n",
            "tensorflow 2.9.2 requires keras<2.10.0,>=2.9.0rc0, but you have keras 2.11.0 which is incompatible.\n",
            "tensorflow 2.9.2 requires tensorboard<2.10,>=2.9, but you have tensorboard 2.11.0 which is incompatible.\n",
            "tensorflow 2.9.2 requires tensorflow-estimator<2.10.0,>=2.9.0rc0, but you have tensorflow-estimator 2.11.0 which is incompatible.\u001b[0m\n",
            "Successfully installed flatbuffers-22.11.23 keras-2.11.0 tensorboard-2.11.0 tensorflow-estimator-2.11.0 tensorflow-gpu-2.11.0\n"
          ]
        }
      ],
      "source": [
        "%pip install opendatasets\n",
        "%pip install contractions\n",
        "%pip install tensorflow-gpu "
      ]
    },
    {
      "cell_type": "code",
      "execution_count": null,
      "metadata": {
        "id": "QvE3BHFaw63n"
      },
      "outputs": [],
      "source": [
        "import opendatasets as od\n",
        "import re\n",
        "import tqdm\n",
        "import numpy as np\n",
        "import pandas as pd\n",
        "import seaborn as sns\n",
        "import matplotlib.pyplot as plt\n",
        "import contractions"
      ]
    },
    {
      "cell_type": "code",
      "execution_count": null,
      "metadata": {
        "colab": {
          "base_uri": "https://localhost:8080/"
        },
        "id": "vZJrnpnBwvQ_",
        "outputId": "d2f0ac9e-edca-4069-efc1-f5d850c10427"
      },
      "outputs": [
        {
          "output_type": "stream",
          "name": "stdout",
          "text": [
            "Please provide your Kaggle credentials to download this dataset. Learn more: http://bit.ly/kaggle-creds\n",
            "Your Kaggle username: stevanuso\n",
            "Your Kaggle Key: ··········\n",
            "Downloading emotions-dataset-for-nlp.zip to ./emotions-dataset-for-nlp\n"
          ]
        },
        {
          "output_type": "stream",
          "name": "stderr",
          "text": [
            "100%|██████████| 721k/721k [00:00<00:00, 900kB/s]"
          ]
        },
        {
          "output_type": "stream",
          "name": "stdout",
          "text": [
            "\n"
          ]
        },
        {
          "output_type": "stream",
          "name": "stderr",
          "text": [
            "\n"
          ]
        }
      ],
      "source": [
        "od.download('https://www.kaggle.com/datasets/praveengovi/emotions-dataset-for-nlp')\n",
        "# 77313e8cd57197e77927d63d14b0618b\n",
        "# stevanuso"
      ]
    },
    {
      "cell_type": "markdown",
      "metadata": {
        "id": "i2d1uiKbxFAJ"
      },
      "source": [
        "# Reading dataset"
      ]
    },
    {
      "cell_type": "code",
      "execution_count": null,
      "metadata": {
        "id": "d_SxplpixEfX"
      },
      "outputs": [],
      "source": [
        "train_df = pd.read_csv(\"../content/emotions-dataset-for-nlp/train.txt\", sep=';', header=None, names=['text', 'label'])\n",
        "test_df = pd.read_csv(\"../content/emotions-dataset-for-nlp/test.txt\", sep=';', header=None, names=['text', 'label'])\n",
        "val_df = pd.read_csv(\"../content/emotions-dataset-for-nlp/val.txt\", sep=';', header=None, names=['text', 'label'])"
      ]
    },
    {
      "cell_type": "code",
      "execution_count": null,
      "metadata": {
        "colab": {
          "base_uri": "https://localhost:8080/",
          "height": 206
        },
        "id": "opcbhJyxxyBL",
        "outputId": "2f26f1b2-7620-4a51-d907-3e5327817700"
      },
      "outputs": [
        {
          "output_type": "execute_result",
          "data": {
            "text/plain": [
              "                                                text    label\n",
              "0                            i didnt feel humiliated  sadness\n",
              "1  i can go from feeling so hopeless to so damned...  sadness\n",
              "2   im grabbing a minute to post i feel greedy wrong    anger\n",
              "3  i am ever feeling nostalgic about the fireplac...     love\n",
              "4                               i am feeling grouchy    anger"
            ],
            "text/html": [
              "\n",
              "  <div id=\"df-b7b772d4-0bd0-4a9f-8f63-8e99f6e98d3d\">\n",
              "    <div class=\"colab-df-container\">\n",
              "      <div>\n",
              "<style scoped>\n",
              "    .dataframe tbody tr th:only-of-type {\n",
              "        vertical-align: middle;\n",
              "    }\n",
              "\n",
              "    .dataframe tbody tr th {\n",
              "        vertical-align: top;\n",
              "    }\n",
              "\n",
              "    .dataframe thead th {\n",
              "        text-align: right;\n",
              "    }\n",
              "</style>\n",
              "<table border=\"1\" class=\"dataframe\">\n",
              "  <thead>\n",
              "    <tr style=\"text-align: right;\">\n",
              "      <th></th>\n",
              "      <th>text</th>\n",
              "      <th>label</th>\n",
              "    </tr>\n",
              "  </thead>\n",
              "  <tbody>\n",
              "    <tr>\n",
              "      <th>0</th>\n",
              "      <td>i didnt feel humiliated</td>\n",
              "      <td>sadness</td>\n",
              "    </tr>\n",
              "    <tr>\n",
              "      <th>1</th>\n",
              "      <td>i can go from feeling so hopeless to so damned...</td>\n",
              "      <td>sadness</td>\n",
              "    </tr>\n",
              "    <tr>\n",
              "      <th>2</th>\n",
              "      <td>im grabbing a minute to post i feel greedy wrong</td>\n",
              "      <td>anger</td>\n",
              "    </tr>\n",
              "    <tr>\n",
              "      <th>3</th>\n",
              "      <td>i am ever feeling nostalgic about the fireplac...</td>\n",
              "      <td>love</td>\n",
              "    </tr>\n",
              "    <tr>\n",
              "      <th>4</th>\n",
              "      <td>i am feeling grouchy</td>\n",
              "      <td>anger</td>\n",
              "    </tr>\n",
              "  </tbody>\n",
              "</table>\n",
              "</div>\n",
              "      <button class=\"colab-df-convert\" onclick=\"convertToInteractive('df-b7b772d4-0bd0-4a9f-8f63-8e99f6e98d3d')\"\n",
              "              title=\"Convert this dataframe to an interactive table.\"\n",
              "              style=\"display:none;\">\n",
              "        \n",
              "  <svg xmlns=\"http://www.w3.org/2000/svg\" height=\"24px\"viewBox=\"0 0 24 24\"\n",
              "       width=\"24px\">\n",
              "    <path d=\"M0 0h24v24H0V0z\" fill=\"none\"/>\n",
              "    <path d=\"M18.56 5.44l.94 2.06.94-2.06 2.06-.94-2.06-.94-.94-2.06-.94 2.06-2.06.94zm-11 1L8.5 8.5l.94-2.06 2.06-.94-2.06-.94L8.5 2.5l-.94 2.06-2.06.94zm10 10l.94 2.06.94-2.06 2.06-.94-2.06-.94-.94-2.06-.94 2.06-2.06.94z\"/><path d=\"M17.41 7.96l-1.37-1.37c-.4-.4-.92-.59-1.43-.59-.52 0-1.04.2-1.43.59L10.3 9.45l-7.72 7.72c-.78.78-.78 2.05 0 2.83L4 21.41c.39.39.9.59 1.41.59.51 0 1.02-.2 1.41-.59l7.78-7.78 2.81-2.81c.8-.78.8-2.07 0-2.86zM5.41 20L4 18.59l7.72-7.72 1.47 1.35L5.41 20z\"/>\n",
              "  </svg>\n",
              "      </button>\n",
              "      \n",
              "  <style>\n",
              "    .colab-df-container {\n",
              "      display:flex;\n",
              "      flex-wrap:wrap;\n",
              "      gap: 12px;\n",
              "    }\n",
              "\n",
              "    .colab-df-convert {\n",
              "      background-color: #E8F0FE;\n",
              "      border: none;\n",
              "      border-radius: 50%;\n",
              "      cursor: pointer;\n",
              "      display: none;\n",
              "      fill: #1967D2;\n",
              "      height: 32px;\n",
              "      padding: 0 0 0 0;\n",
              "      width: 32px;\n",
              "    }\n",
              "\n",
              "    .colab-df-convert:hover {\n",
              "      background-color: #E2EBFA;\n",
              "      box-shadow: 0px 1px 2px rgba(60, 64, 67, 0.3), 0px 1px 3px 1px rgba(60, 64, 67, 0.15);\n",
              "      fill: #174EA6;\n",
              "    }\n",
              "\n",
              "    [theme=dark] .colab-df-convert {\n",
              "      background-color: #3B4455;\n",
              "      fill: #D2E3FC;\n",
              "    }\n",
              "\n",
              "    [theme=dark] .colab-df-convert:hover {\n",
              "      background-color: #434B5C;\n",
              "      box-shadow: 0px 1px 3px 1px rgba(0, 0, 0, 0.15);\n",
              "      filter: drop-shadow(0px 1px 2px rgba(0, 0, 0, 0.3));\n",
              "      fill: #FFFFFF;\n",
              "    }\n",
              "  </style>\n",
              "\n",
              "      <script>\n",
              "        const buttonEl =\n",
              "          document.querySelector('#df-b7b772d4-0bd0-4a9f-8f63-8e99f6e98d3d button.colab-df-convert');\n",
              "        buttonEl.style.display =\n",
              "          google.colab.kernel.accessAllowed ? 'block' : 'none';\n",
              "\n",
              "        async function convertToInteractive(key) {\n",
              "          const element = document.querySelector('#df-b7b772d4-0bd0-4a9f-8f63-8e99f6e98d3d');\n",
              "          const dataTable =\n",
              "            await google.colab.kernel.invokeFunction('convertToInteractive',\n",
              "                                                     [key], {});\n",
              "          if (!dataTable) return;\n",
              "\n",
              "          const docLinkHtml = 'Like what you see? Visit the ' +\n",
              "            '<a target=\"_blank\" href=https://colab.research.google.com/notebooks/data_table.ipynb>data table notebook</a>'\n",
              "            + ' to learn more about interactive tables.';\n",
              "          element.innerHTML = '';\n",
              "          dataTable['output_type'] = 'display_data';\n",
              "          await google.colab.output.renderOutput(dataTable, element);\n",
              "          const docLink = document.createElement('div');\n",
              "          docLink.innerHTML = docLinkHtml;\n",
              "          element.appendChild(docLink);\n",
              "        }\n",
              "      </script>\n",
              "    </div>\n",
              "  </div>\n",
              "  "
            ]
          },
          "metadata": {},
          "execution_count": 5
        }
      ],
      "source": [
        "train_df.head()"
      ]
    },
    {
      "cell_type": "code",
      "execution_count": null,
      "metadata": {
        "colab": {
          "base_uri": "https://localhost:8080/"
        },
        "id": "IKkOnDte0oxu",
        "outputId": "91e12073-0481-4f97-d67b-40b494f8212a"
      },
      "outputs": [
        {
          "output_type": "stream",
          "name": "stdout",
          "text": [
            "Train Shape (16000, 2)\n",
            "Test Shape (2000, 2)\n",
            "Val Shape (2000, 2)\n"
          ]
        }
      ],
      "source": [
        "print(\"Train Shape\", train_df.shape)\n",
        "print(\"Test Shape\", test_df.shape)\n",
        "print(\"Val Shape\", val_df.shape)"
      ]
    },
    {
      "cell_type": "markdown",
      "metadata": {
        "id": "ERI8rd9X0ERB"
      },
      "source": [
        "# Checking for null values"
      ]
    },
    {
      "cell_type": "code",
      "execution_count": null,
      "metadata": {
        "colab": {
          "base_uri": "https://localhost:8080/"
        },
        "id": "tnPG1Vmo0A-4",
        "outputId": "53e4cbee-074c-48c7-94b3-7f818bb23d02"
      },
      "outputs": [
        {
          "output_type": "stream",
          "name": "stdout",
          "text": [
            "Train\n"
          ]
        },
        {
          "output_type": "execute_result",
          "data": {
            "text/plain": [
              "text     0\n",
              "label    0\n",
              "dtype: int64"
            ]
          },
          "metadata": {},
          "execution_count": 7
        }
      ],
      "source": [
        "print(\"Train\")\n",
        "train_df.isnull().sum()"
      ]
    },
    {
      "cell_type": "code",
      "execution_count": null,
      "metadata": {
        "colab": {
          "base_uri": "https://localhost:8080/"
        },
        "id": "20liHXfN0Xf3",
        "outputId": "c7984e8b-68e8-49bd-c5d0-ed3178f3ecec"
      },
      "outputs": [
        {
          "output_type": "stream",
          "name": "stdout",
          "text": [
            "Test\n"
          ]
        },
        {
          "output_type": "execute_result",
          "data": {
            "text/plain": [
              "text     0\n",
              "label    0\n",
              "dtype: int64"
            ]
          },
          "metadata": {},
          "execution_count": 8
        }
      ],
      "source": [
        "print(\"Test\")\n",
        "test_df.isnull().sum()"
      ]
    },
    {
      "cell_type": "code",
      "execution_count": null,
      "metadata": {
        "colab": {
          "base_uri": "https://localhost:8080/"
        },
        "id": "YiphObq50Y4p",
        "outputId": "d843e308-db85-49cb-fdb1-1b46477e01df"
      },
      "outputs": [
        {
          "output_type": "stream",
          "name": "stdout",
          "text": [
            "Val\n"
          ]
        },
        {
          "output_type": "execute_result",
          "data": {
            "text/plain": [
              "text     0\n",
              "label    0\n",
              "dtype: int64"
            ]
          },
          "metadata": {},
          "execution_count": 9
        }
      ],
      "source": [
        "print(\"Val\")\n",
        "val_df.isnull().sum()"
      ]
    },
    {
      "cell_type": "markdown",
      "metadata": {
        "id": "PD7imLqf00_J"
      },
      "source": [
        "# Target of Label Distribution"
      ]
    },
    {
      "cell_type": "code",
      "execution_count": null,
      "metadata": {
        "colab": {
          "base_uri": "https://localhost:8080/"
        },
        "id": "bkmrhguB059h",
        "outputId": "2fee780a-9282-4816-a706-3552fbcd473f"
      },
      "outputs": [
        {
          "output_type": "execute_result",
          "data": {
            "text/plain": [
              "joy         5362\n",
              "sadness     4666\n",
              "anger       2159\n",
              "fear        1937\n",
              "love        1304\n",
              "surprise     572\n",
              "Name: label, dtype: int64"
            ]
          },
          "metadata": {},
          "execution_count": 10
        }
      ],
      "source": [
        "train_df['label'].value_counts()"
      ]
    },
    {
      "cell_type": "code",
      "execution_count": null,
      "metadata": {
        "colab": {
          "base_uri": "https://localhost:8080/",
          "height": 327
        },
        "id": "xtFGtphJ1Tq3",
        "outputId": "3bf5310b-ddaf-47f4-f251-e6a55807fc3d"
      },
      "outputs": [
        {
          "output_type": "execute_result",
          "data": {
            "text/plain": [
              "<matplotlib.axes._subplots.AxesSubplot at 0x7f41f07f9f90>"
            ]
          },
          "metadata": {},
          "execution_count": 11
        },
        {
          "output_type": "display_data",
          "data": {
            "text/plain": [
              "<Figure size 432x288 with 1 Axes>"
            ],
            "image/png": "[encoded data removed]"
          },
          "metadata": {
            "needs_background": "light"
          }
        }
      ],
      "source": [
        "train_df.groupby('label').size().plot(kind='bar')"
      ]
    },
    {
      "cell_type": "code",
      "execution_count": null,
      "metadata": {
        "colab": {
          "base_uri": "https://localhost:8080/"
        },
        "id": "tgh6VFNk1AAJ",
        "outputId": "078d3aaa-2275-4c14-daa1-ce8841e825bc"
      },
      "outputs": [
        {
          "output_type": "execute_result",
          "data": {
            "text/plain": [
              "joy         695\n",
              "sadness     581\n",
              "anger       275\n",
              "fear        224\n",
              "love        159\n",
              "surprise     66\n",
              "Name: label, dtype: int64"
            ]
          },
          "metadata": {},
          "execution_count": 12
        }
      ],
      "source": [
        "test_df['label'].value_counts()"
      ]
    },
    {
      "cell_type": "code",
      "execution_count": null,
      "metadata": {
        "colab": {
          "base_uri": "https://localhost:8080/",
          "height": 327
        },
        "id": "8nHMAevF1X0g",
        "outputId": "083f0df3-da23-445a-d327-1923c63218e1"
      },
      "outputs": [
        {
          "output_type": "execute_result",
          "data": {
            "text/plain": [
              "<matplotlib.axes._subplots.AxesSubplot at 0x7f41e6c94990>"
            ]
          },
          "metadata": {},
          "execution_count": 13
        },
        {
          "output_type": "display_data",
          "data": {
            "text/plain": [
              "<Figure size 432x288 with 1 Axes>"
            ],
            "image/png": "[encoded data removed]"
          },
          "metadata": {
            "needs_background": "light"
          }
        }
      ],
      "source": [
        "test_df.groupby('label').size().plot(kind='bar')"
      ]
    },
    {
      "cell_type": "code",
      "execution_count": null,
      "metadata": {
        "colab": {
          "base_uri": "https://localhost:8080/"
        },
        "id": "-XQB2BVu1BTS",
        "outputId": "eda2b0b3-cc9e-4aca-b71a-0758141f26d7"
      },
      "outputs": [
        {
          "output_type": "execute_result",
          "data": {
            "text/plain": [
              "joy         704\n",
              "sadness     550\n",
              "anger       275\n",
              "fear        212\n",
              "love        178\n",
              "surprise     81\n",
              "Name: label, dtype: int64"
            ]
          },
          "metadata": {},
          "execution_count": 14
        }
      ],
      "source": [
        "val_df['label'].value_counts()"
      ]
    },
    {
      "cell_type": "code",
      "execution_count": null,
      "metadata": {
        "colab": {
          "base_uri": "https://localhost:8080/",
          "height": 327
        },
        "id": "iGNWVk_41Z73",
        "outputId": "74e2e5c1-3059-469c-aa0e-7d3a408c6b4a"
      },
      "outputs": [
        {
          "output_type": "execute_result",
          "data": {
            "text/plain": [
              "<matplotlib.axes._subplots.AxesSubplot at 0x7f41e676c490>"
            ]
          },
          "metadata": {},
          "execution_count": 15
        },
        {
          "output_type": "display_data",
          "data": {
            "text/plain": [
              "<Figure size 432x288 with 1 Axes>"
            ],
            "image/png": "[encoded data removed]"
          },
          "metadata": {
            "needs_background": "light"
          }
        }
      ],
      "source": [
        "val_df.groupby('label').size().plot(kind='bar')"
      ]
    },
    {
      "cell_type": "markdown",
      "metadata": {
        "id": "PfmdSYAB121g"
      },
      "source": [
        "# Sample text"
      ]
    },
    {
      "cell_type": "code",
      "execution_count": null,
      "metadata": {
        "id": "sdltbnM_14yg"
      },
      "outputs": [],
      "source": [
        "sample_train = train_df['text'][0]\n",
        "sample_test = test_df['text'][0]\n",
        "sample_val = val_df['text'][0]"
      ]
    },
    {
      "cell_type": "code",
      "execution_count": null,
      "metadata": {
        "colab": {
          "base_uri": "https://localhost:8080/"
        },
        "id": "noOFg9zy2A-A",
        "outputId": "11af0b29-d2b3-439c-9aa7-175618aaa1fe"
      },
      "outputs": [
        {
          "output_type": "stream",
          "name": "stdout",
          "text": [
            "train sample txt: i didnt feel humiliated\n",
            "test sample txt: im feeling rather rotten so im not very ambitious right now\n",
            "val sample txt: im feeling quite sad and sorry for myself but ill snap out of it soon\n"
          ]
        }
      ],
      "source": [
        "print(\"train sample txt:\", sample_train)\n",
        "print(\"test sample txt:\", sample_test)\n",
        "print(\"val sample txt:\", sample_val)"
      ]
    },
    {
      "cell_type": "markdown",
      "metadata": {
        "id": "l4g-6Wgv3fCb"
      },
      "source": [
        "# Text Processing"
      ]
    },
    {
      "cell_type": "markdown",
      "metadata": {
        "id": "FSri-lRW3haf"
      },
      "source": [
        "- Lowercase\n",
        "- Removing number\n",
        "- Removing Punctuation\n",
        "- Remove Stopwords"
      ]
    },
    {
      "cell_type": "code",
      "execution_count": null,
      "metadata": {
        "colab": {
          "base_uri": "https://localhost:8080/"
        },
        "id": "zX9I5wHN3gxY",
        "outputId": "5a1e367f-63ba-43ff-cf33-a0af4c834c42"
      },
      "outputs": [
        {
          "output_type": "stream",
          "name": "stderr",
          "text": [
            "[nltk_data] Downloading package wordnet to /root/nltk_data...\n",
            "[nltk_data] Downloading package punkt to /root/nltk_data...\n",
            "[nltk_data]   Unzipping tokenizers/punkt.zip.\n",
            "[nltk_data] Downloading package stopwords to /root/nltk_data...\n",
            "[nltk_data]   Unzipping corpora/stopwords.zip.\n",
            "[nltk_data] Downloading package omw-1.4 to /root/nltk_data...\n"
          ]
        }
      ],
      "source": [
        "import nltk\n",
        "from nltk.corpus import stopwords\n",
        "from nltk.tokenize import word_tokenize\n",
        "from nltk.stem import WordNetLemmatizer\n",
        "\n",
        "nltk.download('wordnet')\n",
        "nltk.download('punkt')\n",
        "nltk.download('stopwords')\n",
        "nltk.download('omw-1.4')\n",
        "\n",
        "lemmatizer = WordNetLemmatizer()\n",
        "stopwords = stopwords.words('english')"
      ]
    },
    {
      "cell_type": "code",
      "execution_count": null,
      "metadata": {
        "id": "0-Ff1vKk3qG3"
      },
      "outputs": [],
      "source": [
        "def lower_text(text):\n",
        "    return text.lower()\n",
        "\n",
        "def remove_number(text):\n",
        "    num = re.compile(r'[-+]?[.\\d]*[\\d]+[:,.\\d]*')\n",
        "    return num.sub(r'', text)\n",
        "\n",
        "def remove_punct(text):\n",
        "    punctuations = '@#!?+&*[]-%.:/();$=><|{}^' + \"'`\" \n",
        "    for p in punctuations:\n",
        "        text = text.replace(p, f' {p} ')\n",
        "    return text\n",
        "\n",
        "def remove_stopwords(text):\n",
        "    text = ' '.join([word for word in text.split() if word not in (stopwords)])\n",
        "    return text\n",
        "\n",
        "def lemmatize_lower(text):\n",
        "    negative = ['not', 'neither', 'nor', 'but', 'however',\n",
        "                'although', 'nonetheless', 'despite', 'except',\n",
        "                        'even though', 'yet','unless']\n",
        "    stop_words = [word for word in text.split() if word not in (stopwords)]\n",
        "    text = ' '.join([lemmatizer.lemmatize(contractions.fix(lower_text(text))) for txt in text.split() if txt not in stop_words])\n",
        "    return text\n",
        "\n",
        " "
      ]
    },
    {
      "cell_type": "code",
      "execution_count": null,
      "metadata": {
        "id": "oe5T2-EJ3vHX"
      },
      "outputs": [],
      "source": [
        "def clean_text(text):\n",
        "    text = remove_number(text)\n",
        "    text = remove_punct(text)\n",
        "    text = lemmatize_lower(text)\n",
        "    text = remove_stopwords(text)\n",
        "  \n",
        "    return text"
      ]
    },
    {
      "cell_type": "code",
      "execution_count": null,
      "metadata": {
        "id": "6vLkgPrg3x5n"
      },
      "outputs": [],
      "source": [
        "train_df[\"clean_text\"] = train_df[\"text\"].apply(clean_text)\n",
        "test_df[\"clean_text\"] = test_df[\"text\"].apply(clean_text)\n",
        "val_df[\"clean_text\"] = val_df[\"text\"].apply(clean_text)"
      ]
    },
    {
      "cell_type": "code",
      "execution_count": null,
      "metadata": {
        "colab": {
          "base_uri": "https://localhost:8080/",
          "height": 1000
        },
        "id": "iLnyVyoB9j_v",
        "outputId": "d78956ad-bd6c-4b47-8ddc-36bd94c2211d"
      },
      "outputs": [
        {
          "output_type": "execute_result",
          "data": {
            "text/plain": [
              "                                                 text     label  \\\n",
              "0                             i didnt feel humiliated   sadness   \n",
              "1   i can go from feeling so hopeless to so damned...   sadness   \n",
              "2    im grabbing a minute to post i feel greedy wrong     anger   \n",
              "3   i am ever feeling nostalgic about the fireplac...      love   \n",
              "4                                i am feeling grouchy     anger   \n",
              "5   ive been feeling a little burdened lately wasn...   sadness   \n",
              "6   ive been taking or milligrams or times recomme...  surprise   \n",
              "7   i feel as confused about life as a teenager or...      fear   \n",
              "8   i have been with petronas for years i feel tha...       joy   \n",
              "9                                 i feel romantic too      love   \n",
              "10  i feel like i have to make the suffering i m s...   sadness   \n",
              "11  i do feel that running is a divine experience ...       joy   \n",
              "12  i think it s the easiest time of year to feel ...     anger   \n",
              "13                 i feel low energy i m just thirsty   sadness   \n",
              "14  i have immense sympathy with the general point...       joy   \n",
              "15    i do not feel reassured anxiety is on each side       joy   \n",
              "16               i didnt really feel that embarrassed   sadness   \n",
              "17            i feel pretty pathetic most of the time   sadness   \n",
              "18  i started feeling sentimental about dolls i ha...   sadness   \n",
              "19  i now feel compromised and skeptical of the va...      fear   \n",
              "20  i feel irritated and rejected without anyone d...     anger   \n",
              "21  i am feeling completely overwhelmed i have two...      fear   \n",
              "22    i have the feeling she was amused and delighted       joy   \n",
              "23  i was able to help chai lifeline with your sup...       joy   \n",
              "24  i already feel like i fucked up though because...     anger   \n",
              "25  i still love my so and wish the best for him i...   sadness   \n",
              "26  i feel so inhibited in someone elses kitchen l...   sadness   \n",
              "27             i become overwhelmed and feel defeated   sadness   \n",
              "28  i feel kinda appalled that she feels like she ...     anger   \n",
              "29  i feel more superior dead chicken or grieving ...       joy   \n",
              "30  i get giddy over feeling elegant in a perfectl...       joy   \n",
              "31  i remember feeling acutely distressed for a fe...      fear   \n",
              "32  i have seen heard and read over the past coupl...  surprise   \n",
              "33  i climbed the hill feeling frustrated that id ...     anger   \n",
              "34  i can t imagine a real life scenario where i w...       joy   \n",
              "35  i am not sure what would make me feel content ...       joy   \n",
              "36        i have been feeling the need to be creative       joy   \n",
              "37  i do however want you to know that if somethin...       joy   \n",
              "38  i feel a bit rude writing to an elderly gentle...     anger   \n",
              "39  i need you i need someone i need to be protect...       joy   \n",
              "40  i plan to share my everyday life stories trave...       joy   \n",
              "41  i already have my christmas trees up i got two...       joy   \n",
              "42  ive worn it once on its own with a little conc...       joy   \n",
              "43  i feel very strongly passionate about when som...       joy   \n",
              "44  i was feeling so discouraged we are already ro...   sadness   \n",
              "45  i was feeling listless from the need of new th...   sadness   \n",
              "46  i lost my special mind but don t worry i m sti...       joy   \n",
              "47  i can t let go of that sad feeling that i want...      love   \n",
              "48                          on a boat trip to denmark       joy   \n",
              "49       i stopped feeling cold and began feeling hot     anger   \n",
              "\n",
              "                                           clean_text  encoded_label  \n",
              "0                                     feel humiliated              4  \n",
              "1   go feeling hopeless damned hopeful around some...              4  \n",
              "2   grabbing minute post feel greedy wrong grabbin...              0  \n",
              "3   ever feeling nostalgic fireplace know still pr...              3  \n",
              "4                     feeling grouchy feeling grouchy              0  \n",
              "5   feeling little burdened lately sure feeling li...              4  \n",
              "6   taking milligrams times recommended amount fal...              5  \n",
              "7   feel confused life teenager jaded year old man...              1  \n",
              "8   petronas years feel petronas performed well ma...              2  \n",
              "9                         feel romantic feel romantic              3  \n",
              "10  feel like make suffering seeing mean something...              4  \n",
              "11  feel running divine experience expect type spi...              2  \n",
              "12  think easiest time year feel dissatisfied thin...              0  \n",
              "13  feel low energy thirsty feel low energy thirst...              4  \n",
              "14  immense sympathy general point possible proto ...              2  \n",
              "15  feel reassured anxiety side feel reassured anx...              2  \n",
              "16    really feel embarrassed really feel embarrassed              4  \n",
              "17  feel pretty pathetic time feel pretty pathetic...              4  \n",
              "18  started feeling sentimental dolls child began ...              4  \n",
              "19  feel compromised skeptical value every unit wo...              1  \n",
              "20  feel irritated rejected without anyone anythin...              0  \n",
              "21  feeling completely overwhelmed two strategies ...              1  \n",
              "22  feeling amused delighted feeling amused deligh...              2  \n",
              "23  able help chai lifeline support encouragement ...              2  \n",
              "24  already feel like fucked though usually eat mo...              0  \n",
              "25  still love wish best longer tolerate effect bm...              4  \n",
              "26  feel inhibited someone elses kitchen like pain...              4  \n",
              "27  become overwhelmed feel defeated become overwh...              4  \n",
              "28  feel kind appalled feels like needs explain wi...              0  \n",
              "29  feel superior dead chicken grieving child feel...              2  \n",
              "30  get giddy feeling elegant perfectly fitted pen...              2  \n",
              "31  remember feeling acutely distressed days remem...              1  \n",
              "32  seen heard read past couple days left feeling ...              5  \n",
              "33  climbed hill feeling frustrated id pretty much...              0  \n",
              "34  imagine real life scenario would emotionally c...              2  \n",
              "35  sure would make feel content anything sure wou...              2  \n",
              "36  feeling need creative feeling need creative fe...              2  \n",
              "37  however want know something someone causing fe...              2  \n",
              "38  feel bit rude writing elderly gentleman ask gi...              0  \n",
              "39  need need someone need protected feel safe sma...              2  \n",
              "40  plan share everyday life stories traveling adv...              2  \n",
              "41  already christmas trees got two feeling festiv...              2  \n",
              "42  worn little concealer days feeling brave want ...              2  \n",
              "43  feel strongly passionate jerk decides poke mak...              2  \n",
              "44  feeling discouraged already robbing peter pay ...              4  \n",
              "45  feeling listless need new things something dif...              4  \n",
              "46  lost special mind worry still sane wanted feel...              2  \n",
              "47  let go sad feeling want accepted first home mi...              3  \n",
              "48  boat trip denmark boat trip denmark boat trip ...              2  \n",
              "49  stopped feeling cold began feeling hot stopped...              0  "
            ],
            "text/html": [
              "\n",
              "  <div id=\"df-d0bf0176-2b90-4814-81e5-6df80dad83df\">\n",
              "    <div class=\"colab-df-container\">\n",
              "      <div>\n",
              "<style scoped>\n",
              "    .dataframe tbody tr th:only-of-type {\n",
              "        vertical-align: middle;\n",
              "    }\n",
              "\n",
              "    .dataframe tbody tr th {\n",
              "        vertical-align: top;\n",
              "    }\n",
              "\n",
              "    .dataframe thead th {\n",
              "        text-align: right;\n",
              "    }\n",
              "</style>\n",
              "<table border=\"1\" class=\"dataframe\">\n",
              "  <thead>\n",
              "    <tr style=\"text-align: right;\">\n",
              "      <th></th>\n",
              "      <th>text</th>\n",
              "      <th>label</th>\n",
              "      <th>clean_text</th>\n",
              "      <th>encoded_label</th>\n",
              "    </tr>\n",
              "  </thead>\n",
              "  <tbody>\n",
              "    <tr>\n",
              "      <th>0</th>\n",
              "      <td>i didnt feel humiliated</td>\n",
              "      <td>sadness</td>\n",
              "      <td>feel humiliated</td>\n",
              "      <td>4</td>\n",
              "    </tr>\n",
              "    <tr>\n",
              "      <th>1</th>\n",
              "      <td>i can go from feeling so hopeless to so damned...</td>\n",
              "      <td>sadness</td>\n",
              "      <td>go feeling hopeless damned hopeful around some...</td>\n",
              "      <td>4</td>\n",
              "    </tr>\n",
              "    <tr>\n",
              "      <th>2</th>\n",
              "      <td>im grabbing a minute to post i feel greedy wrong</td>\n",
              "      <td>anger</td>\n",
              "      <td>grabbing minute post feel greedy wrong grabbin...</td>\n",
              "      <td>0</td>\n",
              "    </tr>\n",
              "    <tr>\n",
              "      <th>3</th>\n",
              "      <td>i am ever feeling nostalgic about the fireplac...</td>\n",
              "      <td>love</td>\n",
              "      <td>ever feeling nostalgic fireplace know still pr...</td>\n",
              "      <td>3</td>\n",
              "    </tr>\n",
              "    <tr>\n",
              "      <th>4</th>\n",
              "      <td>i am feeling grouchy</td>\n",
              "      <td>anger</td>\n",
              "      <td>feeling grouchy feeling grouchy</td>\n",
              "      <td>0</td>\n",
              "    </tr>\n",
              "    <tr>\n",
              "      <th>5</th>\n",
              "      <td>ive been feeling a little burdened lately wasn...</td>\n",
              "      <td>sadness</td>\n",
              "      <td>feeling little burdened lately sure feeling li...</td>\n",
              "      <td>4</td>\n",
              "    </tr>\n",
              "    <tr>\n",
              "      <th>6</th>\n",
              "      <td>ive been taking or milligrams or times recomme...</td>\n",
              "      <td>surprise</td>\n",
              "      <td>taking milligrams times recommended amount fal...</td>\n",
              "      <td>5</td>\n",
              "    </tr>\n",
              "    <tr>\n",
              "      <th>7</th>\n",
              "      <td>i feel as confused about life as a teenager or...</td>\n",
              "      <td>fear</td>\n",
              "      <td>feel confused life teenager jaded year old man...</td>\n",
              "      <td>1</td>\n",
              "    </tr>\n",
              "    <tr>\n",
              "      <th>8</th>\n",
              "      <td>i have been with petronas for years i feel tha...</td>\n",
              "      <td>joy</td>\n",
              "      <td>petronas years feel petronas performed well ma...</td>\n",
              "      <td>2</td>\n",
              "    </tr>\n",
              "    <tr>\n",
              "      <th>9</th>\n",
              "      <td>i feel romantic too</td>\n",
              "      <td>love</td>\n",
              "      <td>feel romantic feel romantic</td>\n",
              "      <td>3</td>\n",
              "    </tr>\n",
              "    <tr>\n",
              "      <th>10</th>\n",
              "      <td>i feel like i have to make the suffering i m s...</td>\n",
              "      <td>sadness</td>\n",
              "      <td>feel like make suffering seeing mean something...</td>\n",
              "      <td>4</td>\n",
              "    </tr>\n",
              "    <tr>\n",
              "      <th>11</th>\n",
              "      <td>i do feel that running is a divine experience ...</td>\n",
              "      <td>joy</td>\n",
              "      <td>feel running divine experience expect type spi...</td>\n",
              "      <td>2</td>\n",
              "    </tr>\n",
              "    <tr>\n",
              "      <th>12</th>\n",
              "      <td>i think it s the easiest time of year to feel ...</td>\n",
              "      <td>anger</td>\n",
              "      <td>think easiest time year feel dissatisfied thin...</td>\n",
              "      <td>0</td>\n",
              "    </tr>\n",
              "    <tr>\n",
              "      <th>13</th>\n",
              "      <td>i feel low energy i m just thirsty</td>\n",
              "      <td>sadness</td>\n",
              "      <td>feel low energy thirsty feel low energy thirst...</td>\n",
              "      <td>4</td>\n",
              "    </tr>\n",
              "    <tr>\n",
              "      <th>14</th>\n",
              "      <td>i have immense sympathy with the general point...</td>\n",
              "      <td>joy</td>\n",
              "      <td>immense sympathy general point possible proto ...</td>\n",
              "      <td>2</td>\n",
              "    </tr>\n",
              "    <tr>\n",
              "      <th>15</th>\n",
              "      <td>i do not feel reassured anxiety is on each side</td>\n",
              "      <td>joy</td>\n",
              "      <td>feel reassured anxiety side feel reassured anx...</td>\n",
              "      <td>2</td>\n",
              "    </tr>\n",
              "    <tr>\n",
              "      <th>16</th>\n",
              "      <td>i didnt really feel that embarrassed</td>\n",
              "      <td>sadness</td>\n",
              "      <td>really feel embarrassed really feel embarrassed</td>\n",
              "      <td>4</td>\n",
              "    </tr>\n",
              "    <tr>\n",
              "      <th>17</th>\n",
              "      <td>i feel pretty pathetic most of the time</td>\n",
              "      <td>sadness</td>\n",
              "      <td>feel pretty pathetic time feel pretty pathetic...</td>\n",
              "      <td>4</td>\n",
              "    </tr>\n",
              "    <tr>\n",
              "      <th>18</th>\n",
              "      <td>i started feeling sentimental about dolls i ha...</td>\n",
              "      <td>sadness</td>\n",
              "      <td>started feeling sentimental dolls child began ...</td>\n",
              "      <td>4</td>\n",
              "    </tr>\n",
              "    <tr>\n",
              "      <th>19</th>\n",
              "      <td>i now feel compromised and skeptical of the va...</td>\n",
              "      <td>fear</td>\n",
              "      <td>feel compromised skeptical value every unit wo...</td>\n",
              "      <td>1</td>\n",
              "    </tr>\n",
              "    <tr>\n",
              "      <th>20</th>\n",
              "      <td>i feel irritated and rejected without anyone d...</td>\n",
              "      <td>anger</td>\n",
              "      <td>feel irritated rejected without anyone anythin...</td>\n",
              "      <td>0</td>\n",
              "    </tr>\n",
              "    <tr>\n",
              "      <th>21</th>\n",
              "      <td>i am feeling completely overwhelmed i have two...</td>\n",
              "      <td>fear</td>\n",
              "      <td>feeling completely overwhelmed two strategies ...</td>\n",
              "      <td>1</td>\n",
              "    </tr>\n",
              "    <tr>\n",
              "      <th>22</th>\n",
              "      <td>i have the feeling she was amused and delighted</td>\n",
              "      <td>joy</td>\n",
              "      <td>feeling amused delighted feeling amused deligh...</td>\n",
              "      <td>2</td>\n",
              "    </tr>\n",
              "    <tr>\n",
              "      <th>23</th>\n",
              "      <td>i was able to help chai lifeline with your sup...</td>\n",
              "      <td>joy</td>\n",
              "      <td>able help chai lifeline support encouragement ...</td>\n",
              "      <td>2</td>\n",
              "    </tr>\n",
              "    <tr>\n",
              "      <th>24</th>\n",
              "      <td>i already feel like i fucked up though because...</td>\n",
              "      <td>anger</td>\n",
              "      <td>already feel like fucked though usually eat mo...</td>\n",
              "      <td>0</td>\n",
              "    </tr>\n",
              "    <tr>\n",
              "      <th>25</th>\n",
              "      <td>i still love my so and wish the best for him i...</td>\n",
              "      <td>sadness</td>\n",
              "      <td>still love wish best longer tolerate effect bm...</td>\n",
              "      <td>4</td>\n",
              "    </tr>\n",
              "    <tr>\n",
              "      <th>26</th>\n",
              "      <td>i feel so inhibited in someone elses kitchen l...</td>\n",
              "      <td>sadness</td>\n",
              "      <td>feel inhibited someone elses kitchen like pain...</td>\n",
              "      <td>4</td>\n",
              "    </tr>\n",
              "    <tr>\n",
              "      <th>27</th>\n",
              "      <td>i become overwhelmed and feel defeated</td>\n",
              "      <td>sadness</td>\n",
              "      <td>become overwhelmed feel defeated become overwh...</td>\n",
              "      <td>4</td>\n",
              "    </tr>\n",
              "    <tr>\n",
              "      <th>28</th>\n",
              "      <td>i feel kinda appalled that she feels like she ...</td>\n",
              "      <td>anger</td>\n",
              "      <td>feel kind appalled feels like needs explain wi...</td>\n",
              "      <td>0</td>\n",
              "    </tr>\n",
              "    <tr>\n",
              "      <th>29</th>\n",
              "      <td>i feel more superior dead chicken or grieving ...</td>\n",
              "      <td>joy</td>\n",
              "      <td>feel superior dead chicken grieving child feel...</td>\n",
              "      <td>2</td>\n",
              "    </tr>\n",
              "    <tr>\n",
              "      <th>30</th>\n",
              "      <td>i get giddy over feeling elegant in a perfectl...</td>\n",
              "      <td>joy</td>\n",
              "      <td>get giddy feeling elegant perfectly fitted pen...</td>\n",
              "      <td>2</td>\n",
              "    </tr>\n",
              "    <tr>\n",
              "      <th>31</th>\n",
              "      <td>i remember feeling acutely distressed for a fe...</td>\n",
              "      <td>fear</td>\n",
              "      <td>remember feeling acutely distressed days remem...</td>\n",
              "      <td>1</td>\n",
              "    </tr>\n",
              "    <tr>\n",
              "      <th>32</th>\n",
              "      <td>i have seen heard and read over the past coupl...</td>\n",
              "      <td>surprise</td>\n",
              "      <td>seen heard read past couple days left feeling ...</td>\n",
              "      <td>5</td>\n",
              "    </tr>\n",
              "    <tr>\n",
              "      <th>33</th>\n",
              "      <td>i climbed the hill feeling frustrated that id ...</td>\n",
              "      <td>anger</td>\n",
              "      <td>climbed hill feeling frustrated id pretty much...</td>\n",
              "      <td>0</td>\n",
              "    </tr>\n",
              "    <tr>\n",
              "      <th>34</th>\n",
              "      <td>i can t imagine a real life scenario where i w...</td>\n",
              "      <td>joy</td>\n",
              "      <td>imagine real life scenario would emotionally c...</td>\n",
              "      <td>2</td>\n",
              "    </tr>\n",
              "    <tr>\n",
              "      <th>35</th>\n",
              "      <td>i am not sure what would make me feel content ...</td>\n",
              "      <td>joy</td>\n",
              "      <td>sure would make feel content anything sure wou...</td>\n",
              "      <td>2</td>\n",
              "    </tr>\n",
              "    <tr>\n",
              "      <th>36</th>\n",
              "      <td>i have been feeling the need to be creative</td>\n",
              "      <td>joy</td>\n",
              "      <td>feeling need creative feeling need creative fe...</td>\n",
              "      <td>2</td>\n",
              "    </tr>\n",
              "    <tr>\n",
              "      <th>37</th>\n",
              "      <td>i do however want you to know that if somethin...</td>\n",
              "      <td>joy</td>\n",
              "      <td>however want know something someone causing fe...</td>\n",
              "      <td>2</td>\n",
              "    </tr>\n",
              "    <tr>\n",
              "      <th>38</th>\n",
              "      <td>i feel a bit rude writing to an elderly gentle...</td>\n",
              "      <td>anger</td>\n",
              "      <td>feel bit rude writing elderly gentleman ask gi...</td>\n",
              "      <td>0</td>\n",
              "    </tr>\n",
              "    <tr>\n",
              "      <th>39</th>\n",
              "      <td>i need you i need someone i need to be protect...</td>\n",
              "      <td>joy</td>\n",
              "      <td>need need someone need protected feel safe sma...</td>\n",
              "      <td>2</td>\n",
              "    </tr>\n",
              "    <tr>\n",
              "      <th>40</th>\n",
              "      <td>i plan to share my everyday life stories trave...</td>\n",
              "      <td>joy</td>\n",
              "      <td>plan share everyday life stories traveling adv...</td>\n",
              "      <td>2</td>\n",
              "    </tr>\n",
              "    <tr>\n",
              "      <th>41</th>\n",
              "      <td>i already have my christmas trees up i got two...</td>\n",
              "      <td>joy</td>\n",
              "      <td>already christmas trees got two feeling festiv...</td>\n",
              "      <td>2</td>\n",
              "    </tr>\n",
              "    <tr>\n",
              "      <th>42</th>\n",
              "      <td>ive worn it once on its own with a little conc...</td>\n",
              "      <td>joy</td>\n",
              "      <td>worn little concealer days feeling brave want ...</td>\n",
              "      <td>2</td>\n",
              "    </tr>\n",
              "    <tr>\n",
              "      <th>43</th>\n",
              "      <td>i feel very strongly passionate about when som...</td>\n",
              "      <td>joy</td>\n",
              "      <td>feel strongly passionate jerk decides poke mak...</td>\n",
              "      <td>2</td>\n",
              "    </tr>\n",
              "    <tr>\n",
              "      <th>44</th>\n",
              "      <td>i was feeling so discouraged we are already ro...</td>\n",
              "      <td>sadness</td>\n",
              "      <td>feeling discouraged already robbing peter pay ...</td>\n",
              "      <td>4</td>\n",
              "    </tr>\n",
              "    <tr>\n",
              "      <th>45</th>\n",
              "      <td>i was feeling listless from the need of new th...</td>\n",
              "      <td>sadness</td>\n",
              "      <td>feeling listless need new things something dif...</td>\n",
              "      <td>4</td>\n",
              "    </tr>\n",
              "    <tr>\n",
              "      <th>46</th>\n",
              "      <td>i lost my special mind but don t worry i m sti...</td>\n",
              "      <td>joy</td>\n",
              "      <td>lost special mind worry still sane wanted feel...</td>\n",
              "      <td>2</td>\n",
              "    </tr>\n",
              "    <tr>\n",
              "      <th>47</th>\n",
              "      <td>i can t let go of that sad feeling that i want...</td>\n",
              "      <td>love</td>\n",
              "      <td>let go sad feeling want accepted first home mi...</td>\n",
              "      <td>3</td>\n",
              "    </tr>\n",
              "    <tr>\n",
              "      <th>48</th>\n",
              "      <td>on a boat trip to denmark</td>\n",
              "      <td>joy</td>\n",
              "      <td>boat trip denmark boat trip denmark boat trip ...</td>\n",
              "      <td>2</td>\n",
              "    </tr>\n",
              "    <tr>\n",
              "      <th>49</th>\n",
              "      <td>i stopped feeling cold and began feeling hot</td>\n",
              "      <td>anger</td>\n",
              "      <td>stopped feeling cold began feeling hot stopped...</td>\n",
              "      <td>0</td>\n",
              "    </tr>\n",
              "  </tbody>\n",
              "</table>\n",
              "</div>\n",
              "      <button class=\"colab-df-convert\" onclick=\"convertToInteractive('df-d0bf0176-2b90-4814-81e5-6df80dad83df')\"\n",
              "              title=\"Convert this dataframe to an interactive table.\"\n",
              "              style=\"display:none;\">\n",
              "        \n",
              "  <svg xmlns=\"http://www.w3.org/2000/svg\" height=\"24px\"viewBox=\"0 0 24 24\"\n",
              "       width=\"24px\">\n",
              "    <path d=\"M0 0h24v24H0V0z\" fill=\"none\"/>\n",
              "    <path d=\"M18.56 5.44l.94 2.06.94-2.06 2.06-.94-2.06-.94-.94-2.06-.94 2.06-2.06.94zm-11 1L8.5 8.5l.94-2.06 2.06-.94-2.06-.94L8.5 2.5l-.94 2.06-2.06.94zm10 10l.94 2.06.94-2.06 2.06-.94-2.06-.94-.94-2.06-.94 2.06-2.06.94z\"/><path d=\"M17.41 7.96l-1.37-1.37c-.4-.4-.92-.59-1.43-.59-.52 0-1.04.2-1.43.59L10.3 9.45l-7.72 7.72c-.78.78-.78 2.05 0 2.83L4 21.41c.39.39.9.59 1.41.59.51 0 1.02-.2 1.41-.59l7.78-7.78 2.81-2.81c.8-.78.8-2.07 0-2.86zM5.41 20L4 18.59l7.72-7.72 1.47 1.35L5.41 20z\"/>\n",
              "  </svg>\n",
              "      </button>\n",
              "      \n",
              "  <style>\n",
              "    .colab-df-container {\n",
              "      display:flex;\n",
              "      flex-wrap:wrap;\n",
              "      gap: 12px;\n",
              "    }\n",
              "\n",
              "    .colab-df-convert {\n",
              "      background-color: #E8F0FE;\n",
              "      border: none;\n",
              "      border-radius: 50%;\n",
              "      cursor: pointer;\n",
              "      display: none;\n",
              "      fill: #1967D2;\n",
              "      height: 32px;\n",
              "      padding: 0 0 0 0;\n",
              "      width: 32px;\n",
              "    }\n",
              "\n",
              "    .colab-df-convert:hover {\n",
              "      background-color: #E2EBFA;\n",
              "      box-shadow: 0px 1px 2px rgba(60, 64, 67, 0.3), 0px 1px 3px 1px rgba(60, 64, 67, 0.15);\n",
              "      fill: #174EA6;\n",
              "    }\n",
              "\n",
              "    [theme=dark] .colab-df-convert {\n",
              "      background-color: #3B4455;\n",
              "      fill: #D2E3FC;\n",
              "    }\n",
              "\n",
              "    [theme=dark] .colab-df-convert:hover {\n",
              "      background-color: #434B5C;\n",
              "      box-shadow: 0px 1px 3px 1px rgba(0, 0, 0, 0.15);\n",
              "      filter: drop-shadow(0px 1px 2px rgba(0, 0, 0, 0.3));\n",
              "      fill: #FFFFFF;\n",
              "    }\n",
              "  </style>\n",
              "\n",
              "      <script>\n",
              "        const buttonEl =\n",
              "          document.querySelector('#df-d0bf0176-2b90-4814-81e5-6df80dad83df button.colab-df-convert');\n",
              "        buttonEl.style.display =\n",
              "          google.colab.kernel.accessAllowed ? 'block' : 'none';\n",
              "\n",
              "        async function convertToInteractive(key) {\n",
              "          const element = document.querySelector('#df-d0bf0176-2b90-4814-81e5-6df80dad83df');\n",
              "          const dataTable =\n",
              "            await google.colab.kernel.invokeFunction('convertToInteractive',\n",
              "                                                     [key], {});\n",
              "          if (!dataTable) return;\n",
              "\n",
              "          const docLinkHtml = 'Like what you see? Visit the ' +\n",
              "            '<a target=\"_blank\" href=https://colab.research.google.com/notebooks/data_table.ipynb>data table notebook</a>'\n",
              "            + ' to learn more about interactive tables.';\n",
              "          element.innerHTML = '';\n",
              "          dataTable['output_type'] = 'display_data';\n",
              "          await google.colab.output.renderOutput(dataTable, element);\n",
              "          const docLink = document.createElement('div');\n",
              "          docLink.innerHTML = docLinkHtml;\n",
              "          element.appendChild(docLink);\n",
              "        }\n",
              "      </script>\n",
              "    </div>\n",
              "  </div>\n",
              "  "
            ]
          },
          "metadata": {},
          "execution_count": 40
        }
      ],
      "source": [
        "train_df.head(50)"
      ]
    },
    {
      "cell_type": "code",
      "execution_count": null,
      "metadata": {
        "id": "jOzUPJnm5VFR"
      },
      "outputs": [],
      "source": [
        "from sklearn.preprocessing import LabelEncoder\n",
        "encoder = LabelEncoder()"
      ]
    },
    {
      "cell_type": "code",
      "execution_count": null,
      "metadata": {
        "id": "D-oErPHA-z1v"
      },
      "outputs": [],
      "source": [
        "train_df[\"encoded_label\"] = encoder.fit_transform(train_df[\"label\"])\n",
        "val_df[\"encoded_label\"] = encoder.transform(val_df[\"label\"])\n",
        "test_df[\"encoded_label\"] = encoder.transform(test_df[\"label\"])"
      ]
    },
    {
      "cell_type": "code",
      "execution_count": null,
      "metadata": {
        "id": "kvwVp01n_PuJ"
      },
      "outputs": [],
      "source": [
        "X_train = train_df['clean_text']\n",
        "X_test = val_df['clean_text']\n",
        "y_train = train_df['encoded_label']\n",
        "y_test = val_df['encoded_label']"
      ]
    },
    {
      "cell_type": "markdown",
      "metadata": {
        "id": "zRsBLkBAeIVG"
      },
      "source": [
        "# Tokenization"
      ]
    },
    {
      "cell_type": "code",
      "execution_count": null,
      "metadata": {
        "id": "1M-FMHOfeHvG"
      },
      "outputs": [],
      "source": [
        "# from tensorflow.keras.utils import np_utils\n",
        "from tensorflow.keras.preprocessing.text import Tokenizer\n",
        "from tensorflow.keras.preprocessing.sequence import pad_sequences\n",
        "from tensorflow.keras.utils import to_categorical\n",
        "\n",
        "import tensorflow as tf"
      ]
    },
    {
      "cell_type": "code",
      "execution_count": null,
      "metadata": {
        "colab": {
          "base_uri": "https://localhost:8080/"
        },
        "id": "-il1Jp9tfC9X",
        "outputId": "a377486c-f630-4463-9fbb-5324d47422f9"
      },
      "outputs": [
        {
          "output_type": "stream",
          "name": "stdout",
          "text": [
            "14977\n"
          ]
        }
      ],
      "source": [
        "tokenizer = Tokenizer(oov_token='<oov>')\n",
        "tokenizer.fit_on_texts(X_train)\n",
        "\n",
        "X_train = tokenizer.texts_to_sequences(X_train)\n",
        "X_test = tokenizer.texts_to_sequences(X_test)\n",
        "X_val = tokenizer.texts_to_sequences(test_df['clean_text'])\n",
        "\n",
        "vocab_size = len(tokenizer.word_index) + 1\n",
        "print(vocab_size)"
      ]
    },
    {
      "cell_type": "code",
      "execution_count": null,
      "metadata": {
        "id": "MEyq33elfeNM"
      },
      "outputs": [],
      "source": [
        "X_train = pad_sequences(X_train, padding='post', maxlen=128)\n",
        "X_test = pad_sequences(X_test, padding='post', maxlen=128)\n",
        "X_val = pad_sequences(X_val, padding='post', maxlen=128)"
      ]
    },
    {
      "cell_type": "code",
      "execution_count": null,
      "metadata": {
        "id": "55_kAVgphJ-A"
      },
      "outputs": [],
      "source": [
        "dmy_y_test = to_categorical(y_test)\n",
        "dmy_y_train = to_categorical(y_train)"
      ]
    },
    {
      "cell_type": "markdown",
      "metadata": {
        "id": "zM_MoDRNhiC5"
      },
      "source": [
        "# Model"
      ]
    },
    {
      "cell_type": "code",
      "execution_count": null,
      "metadata": {
        "id": "7UKkvIxNhoQR"
      },
      "outputs": [],
      "source": [
        "from tensorflow.keras.layers import LSTM, Bidirectional, Dense, Embedding, Dropout\n",
        "from tensorflow.keras.models import Sequential\n",
        "from tensorflow.keras.optimizers import Adam\n",
        "from tensorflow.keras.callbacks import Callback, ReduceLROnPlateau"
      ]
    },
    {
      "cell_type": "code",
      "execution_count": null,
      "metadata": {
        "id": "MFb__teBhjbG"
      },
      "outputs": [],
      "source": [
        "model = Sequential([\n",
        "    Embedding(vocab_size, 64, input_length=128),\n",
        "    Dropout(0.4),\n",
        "    Bidirectional(LSTM(128, return_sequences=True)),\n",
        "    Bidirectional(LSTM(256)),\n",
        "    Dense(6, activation='softmax')\n",
        "])"
      ]
    },
    {
      "cell_type": "code",
      "execution_count": null,
      "metadata": {
        "colab": {
          "base_uri": "https://localhost:8080/"
        },
        "id": "UK29ufgMiHke",
        "outputId": "d39b58ca-c339-437e-9cd1-cec3b0a93a3f"
      },
      "outputs": [
        {
          "output_type": "stream",
          "name": "stdout",
          "text": [
            "Model: \"sequential_1\"\n",
            "_________________________________________________________________\n",
            " Layer (type)                Output Shape              Param #   \n",
            "=================================================================\n",
            " embedding_1 (Embedding)     (None, 128, 64)           958528    \n",
            "                                                                 \n",
            " dropout_1 (Dropout)         (None, 128, 64)           0         \n",
            "                                                                 \n",
            " bidirectional_2 (Bidirectio  (None, 128, 256)         197632    \n",
            " nal)                                                            \n",
            "                                                                 \n",
            " bidirectional_3 (Bidirectio  (None, 512)              1050624   \n",
            " nal)                                                            \n",
            "                                                                 \n",
            " dense_1 (Dense)             (None, 6)                 3078      \n",
            "                                                                 \n",
            "=================================================================\n",
            "Total params: 2,209,862\n",
            "Trainable params: 2,209,862\n",
            "Non-trainable params: 0\n",
            "_________________________________________________________________\n"
          ]
        }
      ],
      "source": [
        "model.summary()"
      ]
    },
    {
      "cell_type": "code",
      "execution_count": null,
      "metadata": {
        "id": "Qk_sQSdXmt7m"
      },
      "outputs": [],
      "source": [
        "class callbackTarget(Callback):\n",
        "  def on_epoch_end(self, epoch, logs={}):\n",
        "    if(logs.get('val_accuracy') >= 0.91 and logs.get('accuracy') >= 0.91):\n",
        "      print('\\nVal_accuracy and accuracy has reached >= 91%!')\n",
        "      self.model.stop_training = True\n",
        "\n",
        "callbacks = callbackTarget()\n",
        "\n",
        "LR_reduction = ReduceLROnPlateau(\n",
        "    monitor = 'val_loss',\n",
        "    patience = 2, \n",
        "    verbose = 1,\n",
        "    factor = 0.2,\n",
        "    min_lr = 0.0000003\n",
        ")"
      ]
    },
    {
      "cell_type": "code",
      "execution_count": null,
      "metadata": {
        "colab": {
          "base_uri": "https://localhost:8080/"
        },
        "id": "HAyJh-EtS_w4",
        "outputId": "941540f1-d5ba-4f2f-e0a9-0b44d79b58ab"
      },
      "outputs": [
        {
          "output_type": "stream",
          "name": "stdout",
          "text": [
            "/device:GPU:0\n"
          ]
        }
      ],
      "source": [
        "device_name = tf.test.gpu_device_name()\n",
        "if device_name != '/device:GPU:0':\n",
        "  print(\n",
        "      '\\n\\nThis error most likely means that this notebook is not '\n",
        "      'configured to use a GPU.  Change this in Notebook Settings via the '\n",
        "      'command palette (cmd/ctrl-shift-P) or the Edit menu.\\n\\n')\n",
        "  raise SystemError('GPU device not found')\n",
        "print(device_name)"
      ]
    },
    {
      "cell_type": "code",
      "execution_count": null,
      "metadata": {
        "colab": {
          "base_uri": "https://localhost:8080/"
        },
        "id": "0SUqJV_ZiKA9",
        "outputId": "b1cb00df-5bad-4651-ff37-dbb231ec8e40"
      },
      "outputs": [
        {
          "output_type": "stream",
          "name": "stdout",
          "text": [
            "Epoch 1/200\n",
            "125/125 [==============================] - 23s 129ms/step - loss: 1.2399 - accuracy: 0.5258 - val_loss: 0.7748 - val_accuracy: 0.7200\n",
            "Epoch 2/200\n",
            "125/125 [==============================] - 11s 89ms/step - loss: 0.4552 - accuracy: 0.8403 - val_loss: 0.4745 - val_accuracy: 0.8425\n",
            "Epoch 3/200\n",
            "125/125 [==============================] - 9s 74ms/step - loss: 0.2164 - accuracy: 0.9296 - val_loss: 0.4690 - val_accuracy: 0.8525\n",
            "Epoch 4/200\n",
            "125/125 [==============================] - 9s 71ms/step - loss: 0.1556 - accuracy: 0.9483 - val_loss: 0.5433 - val_accuracy: 0.8350\n",
            "Epoch 5/200\n",
            "125/125 [==============================] - 9s 68ms/step - loss: 0.1299 - accuracy: 0.9589 - val_loss: 0.4763 - val_accuracy: 0.8660\n",
            "Epoch 6/200\n",
            "125/125 [==============================] - 9s 70ms/step - loss: 0.1031 - accuracy: 0.9671 - val_loss: 0.5392 - val_accuracy: 0.8530\n",
            "Epoch 7/200\n",
            "125/125 [==============================] - 9s 71ms/step - loss: 0.0931 - accuracy: 0.9701 - val_loss: 0.4914 - val_accuracy: 0.8640\n",
            "Epoch 8/200\n",
            "125/125 [==============================] - 8s 68ms/step - loss: 0.0653 - accuracy: 0.9783 - val_loss: 0.5633 - val_accuracy: 0.8580\n",
            "Epoch 9/200\n",
            "125/125 [==============================] - 8s 66ms/step - loss: 0.0632 - accuracy: 0.9796 - val_loss: 0.5364 - val_accuracy: 0.8665\n",
            "Epoch 10/200\n",
            "125/125 [==============================] - 9s 69ms/step - loss: 0.0634 - accuracy: 0.9792 - val_loss: 0.5395 - val_accuracy: 0.8565\n",
            "Epoch 11/200\n",
            "125/125 [==============================] - 8s 67ms/step - loss: 0.0632 - accuracy: 0.9799 - val_loss: 0.5313 - val_accuracy: 0.8640\n",
            "Epoch 12/200\n",
            "125/125 [==============================] - 8s 67ms/step - loss: 0.0504 - accuracy: 0.9834 - val_loss: 0.5940 - val_accuracy: 0.8625\n",
            "Epoch 13/200\n",
            "125/125 [==============================] - 8s 64ms/step - loss: 0.0513 - accuracy: 0.9840 - val_loss: 0.5280 - val_accuracy: 0.8765\n",
            "Epoch 14/200\n",
            "125/125 [==============================] - 8s 68ms/step - loss: 0.0445 - accuracy: 0.9847 - val_loss: 0.5973 - val_accuracy: 0.8585\n",
            "Epoch 15/200\n",
            "125/125 [==============================] - 8s 68ms/step - loss: 0.0438 - accuracy: 0.9856 - val_loss: 0.6472 - val_accuracy: 0.8650\n",
            "Epoch 16/200\n",
            "125/125 [==============================] - 8s 64ms/step - loss: 0.0647 - accuracy: 0.9791 - val_loss: 0.5317 - val_accuracy: 0.8715\n",
            "Epoch 17/200\n",
            "125/125 [==============================] - 8s 66ms/step - loss: 0.0538 - accuracy: 0.9809 - val_loss: 0.8203 - val_accuracy: 0.8340\n",
            "Epoch 18/200\n",
            "125/125 [==============================] - 8s 66ms/step - loss: 0.0640 - accuracy: 0.9780 - val_loss: 0.5702 - val_accuracy: 0.8755\n",
            "Epoch 19/200\n",
            "125/125 [==============================] - 8s 66ms/step - loss: 0.0475 - accuracy: 0.9833 - val_loss: 0.5799 - val_accuracy: 0.8695\n",
            "Epoch 20/200\n",
            "125/125 [==============================] - 8s 67ms/step - loss: 0.0452 - accuracy: 0.9838 - val_loss: 0.5965 - val_accuracy: 0.8685\n",
            "Epoch 21/200\n",
            "125/125 [==============================] - 8s 67ms/step - loss: 0.0430 - accuracy: 0.9846 - val_loss: 0.6241 - val_accuracy: 0.8670\n",
            "Epoch 22/200\n",
            "125/125 [==============================] - 9s 69ms/step - loss: 0.0412 - accuracy: 0.9857 - val_loss: 0.6342 - val_accuracy: 0.8750\n",
            "Epoch 23/200\n",
            "125/125 [==============================] - 9s 70ms/step - loss: 0.0284 - accuracy: 0.9889 - val_loss: 0.7187 - val_accuracy: 0.8650\n",
            "Epoch 24/200\n",
            "125/125 [==============================] - 8s 66ms/step - loss: 0.0271 - accuracy: 0.9900 - val_loss: 0.6514 - val_accuracy: 0.8760\n",
            "Epoch 25/200\n",
            "125/125 [==============================] - 8s 65ms/step - loss: 0.0226 - accuracy: 0.9911 - val_loss: 0.7264 - val_accuracy: 0.8690\n",
            "Epoch 26/200\n",
            "125/125 [==============================] - 8s 66ms/step - loss: 0.0214 - accuracy: 0.9906 - val_loss: 0.8075 - val_accuracy: 0.8700\n",
            "Epoch 27/200\n",
            "125/125 [==============================] - 8s 67ms/step - loss: 0.0236 - accuracy: 0.9907 - val_loss: 0.7518 - val_accuracy: 0.8660\n",
            "Epoch 28/200\n",
            "125/125 [==============================] - 8s 65ms/step - loss: 0.0257 - accuracy: 0.9899 - val_loss: 0.6974 - val_accuracy: 0.8640\n",
            "Epoch 29/200\n",
            "125/125 [==============================] - 8s 66ms/step - loss: 0.0239 - accuracy: 0.9907 - val_loss: 0.8292 - val_accuracy: 0.8670\n",
            "Epoch 30/200\n",
            "125/125 [==============================] - 9s 69ms/step - loss: 0.0281 - accuracy: 0.9884 - val_loss: 0.7247 - val_accuracy: 0.8710\n",
            "Epoch 31/200\n",
            "125/125 [==============================] - 8s 66ms/step - loss: 0.0297 - accuracy: 0.9896 - val_loss: 0.7277 - val_accuracy: 0.8675\n",
            "Epoch 32/200\n",
            "125/125 [==============================] - 8s 66ms/step - loss: 0.0293 - accuracy: 0.9905 - val_loss: 0.6937 - val_accuracy: 0.8720\n",
            "Epoch 33/200\n",
            "125/125 [==============================] - 8s 66ms/step - loss: 0.0326 - accuracy: 0.9883 - val_loss: 0.8067 - val_accuracy: 0.8450\n",
            "Epoch 34/200\n",
            "125/125 [==============================] - 8s 65ms/step - loss: 0.0349 - accuracy: 0.9877 - val_loss: 0.6855 - val_accuracy: 0.8740\n",
            "Epoch 35/200\n",
            "125/125 [==============================] - 8s 67ms/step - loss: 0.0249 - accuracy: 0.9914 - val_loss: 0.7835 - val_accuracy: 0.8680\n",
            "Epoch 36/200\n",
            "125/125 [==============================] - 8s 65ms/step - loss: 0.0221 - accuracy: 0.9916 - val_loss: 0.7143 - val_accuracy: 0.8685\n",
            "Epoch 37/200\n",
            "125/125 [==============================] - 8s 66ms/step - loss: 0.0297 - accuracy: 0.9893 - val_loss: 0.7031 - val_accuracy: 0.8705\n",
            "Epoch 38/200\n",
            "125/125 [==============================] - 8s 65ms/step - loss: 0.0232 - accuracy: 0.9909 - val_loss: 0.7162 - val_accuracy: 0.8730\n",
            "Epoch 39/200\n",
            "125/125 [==============================] - 8s 67ms/step - loss: 0.0199 - accuracy: 0.9919 - val_loss: 0.6849 - val_accuracy: 0.8760\n",
            "Epoch 40/200\n",
            "125/125 [==============================] - 8s 66ms/step - loss: 0.0192 - accuracy: 0.9923 - val_loss: 0.7191 - val_accuracy: 0.8780\n",
            "Epoch 41/200\n",
            "125/125 [==============================] - 8s 65ms/step - loss: 0.0260 - accuracy: 0.9900 - val_loss: 0.6778 - val_accuracy: 0.8705\n",
            "Epoch 42/200\n",
            "125/125 [==============================] - 8s 66ms/step - loss: 0.0229 - accuracy: 0.9906 - val_loss: 0.7983 - val_accuracy: 0.8760\n",
            "Epoch 43/200\n",
            "125/125 [==============================] - 8s 65ms/step - loss: 0.0251 - accuracy: 0.9896 - val_loss: 0.6598 - val_accuracy: 0.8755\n",
            "Epoch 44/200\n",
            "125/125 [==============================] - 8s 68ms/step - loss: 0.0185 - accuracy: 0.9929 - val_loss: 0.7509 - val_accuracy: 0.8720\n",
            "Epoch 45/200\n",
            "125/125 [==============================] - 8s 65ms/step - loss: 0.0180 - accuracy: 0.9925 - val_loss: 0.7436 - val_accuracy: 0.8730\n",
            "Epoch 46/200\n",
            "125/125 [==============================] - 8s 65ms/step - loss: 0.0157 - accuracy: 0.9929 - val_loss: 0.7209 - val_accuracy: 0.8720\n",
            "Epoch 47/200\n",
            "125/125 [==============================] - 8s 66ms/step - loss: 0.0184 - accuracy: 0.9921 - val_loss: 0.7945 - val_accuracy: 0.8700\n",
            "Epoch 48/200\n",
            "125/125 [==============================] - 8s 66ms/step - loss: 0.0183 - accuracy: 0.9926 - val_loss: 0.7597 - val_accuracy: 0.8440\n",
            "Epoch 49/200\n",
            "125/125 [==============================] - 8s 68ms/step - loss: 0.0263 - accuracy: 0.9902 - val_loss: 0.7240 - val_accuracy: 0.8820\n",
            "Epoch 50/200\n",
            "125/125 [==============================] - 8s 66ms/step - loss: 0.0194 - accuracy: 0.9921 - val_loss: 0.7233 - val_accuracy: 0.8810\n",
            "Epoch 51/200\n",
            "125/125 [==============================] - 8s 66ms/step - loss: 0.0239 - accuracy: 0.9911 - val_loss: 0.7435 - val_accuracy: 0.8805\n",
            "Epoch 52/200\n",
            "125/125 [==============================] - 8s 66ms/step - loss: 0.0183 - accuracy: 0.9926 - val_loss: 0.7534 - val_accuracy: 0.8790\n",
            "Epoch 53/200\n",
            "125/125 [==============================] - 8s 65ms/step - loss: 0.0163 - accuracy: 0.9931 - val_loss: 0.8461 - val_accuracy: 0.8705\n",
            "Epoch 54/200\n",
            "125/125 [==============================] - 8s 65ms/step - loss: 0.0190 - accuracy: 0.9924 - val_loss: 0.7502 - val_accuracy: 0.8735\n",
            "Epoch 55/200\n",
            "125/125 [==============================] - 8s 65ms/step - loss: 0.0197 - accuracy: 0.9916 - val_loss: 0.7373 - val_accuracy: 0.8735\n",
            "Epoch 56/200\n",
            "125/125 [==============================] - 8s 65ms/step - loss: 0.0173 - accuracy: 0.9930 - val_loss: 0.7580 - val_accuracy: 0.8775\n",
            "Epoch 57/200\n",
            "125/125 [==============================] - 8s 66ms/step - loss: 0.0146 - accuracy: 0.9935 - val_loss: 0.7911 - val_accuracy: 0.8755\n",
            "Epoch 58/200\n",
            "125/125 [==============================] - 8s 66ms/step - loss: 0.0205 - accuracy: 0.9917 - val_loss: 0.7500 - val_accuracy: 0.8790\n",
            "Epoch 59/200\n",
            "125/125 [==============================] - 8s 65ms/step - loss: 0.0170 - accuracy: 0.9926 - val_loss: 0.7162 - val_accuracy: 0.8850\n",
            "Epoch 60/200\n",
            "125/125 [==============================] - 8s 65ms/step - loss: 0.0228 - accuracy: 0.9916 - val_loss: 0.8799 - val_accuracy: 0.8700\n",
            "Epoch 61/200\n",
            "125/125 [==============================] - 8s 65ms/step - loss: 0.0247 - accuracy: 0.9910 - val_loss: 0.7114 - val_accuracy: 0.8785\n",
            "Epoch 62/200\n",
            "125/125 [==============================] - 8s 65ms/step - loss: 0.0187 - accuracy: 0.9921 - val_loss: 0.6700 - val_accuracy: 0.8800\n",
            "Epoch 63/200\n",
            "125/125 [==============================] - 8s 66ms/step - loss: 0.0144 - accuracy: 0.9936 - val_loss: 0.7912 - val_accuracy: 0.8805\n",
            "Epoch 64/200\n",
            "125/125 [==============================] - 8s 65ms/step - loss: 0.0241 - accuracy: 0.9916 - val_loss: 0.6303 - val_accuracy: 0.8800\n",
            "Epoch 65/200\n",
            "125/125 [==============================] - 8s 66ms/step - loss: 0.0186 - accuracy: 0.9927 - val_loss: 0.6829 - val_accuracy: 0.8820\n",
            "Epoch 66/200\n",
            "125/125 [==============================] - 8s 65ms/step - loss: 0.0158 - accuracy: 0.9934 - val_loss: 0.7342 - val_accuracy: 0.8815\n",
            "Epoch 67/200\n",
            "125/125 [==============================] - 8s 65ms/step - loss: 0.0232 - accuracy: 0.9914 - val_loss: 0.6002 - val_accuracy: 0.8890\n",
            "Epoch 68/200\n",
            "125/125 [==============================] - 8s 65ms/step - loss: 0.0157 - accuracy: 0.9935 - val_loss: 0.7243 - val_accuracy: 0.8930\n",
            "Epoch 69/200\n",
            "125/125 [==============================] - 8s 65ms/step - loss: 0.0184 - accuracy: 0.9924 - val_loss: 0.7842 - val_accuracy: 0.8735\n",
            "Epoch 70/200\n",
            "125/125 [==============================] - 8s 67ms/step - loss: 0.0155 - accuracy: 0.9936 - val_loss: 0.7092 - val_accuracy: 0.8870\n",
            "Epoch 71/200\n",
            "125/125 [==============================] - 8s 66ms/step - loss: 0.0155 - accuracy: 0.9932 - val_loss: 0.6847 - val_accuracy: 0.8875\n",
            "Epoch 72/200\n",
            "125/125 [==============================] - 8s 66ms/step - loss: 0.0155 - accuracy: 0.9931 - val_loss: 0.6524 - val_accuracy: 0.8820\n",
            "Epoch 73/200\n",
            "125/125 [==============================] - 8s 66ms/step - loss: 0.0219 - accuracy: 0.9909 - val_loss: 0.7080 - val_accuracy: 0.8860\n",
            "Epoch 74/200\n",
            "125/125 [==============================] - 8s 66ms/step - loss: 0.0163 - accuracy: 0.9933 - val_loss: 0.7366 - val_accuracy: 0.8885\n",
            "Epoch 75/200\n",
            "125/125 [==============================] - 8s 66ms/step - loss: 0.0195 - accuracy: 0.9925 - val_loss: 0.7738 - val_accuracy: 0.8790\n",
            "Epoch 76/200\n",
            "125/125 [==============================] - 8s 66ms/step - loss: 0.0189 - accuracy: 0.9923 - val_loss: 0.7155 - val_accuracy: 0.8790\n",
            "Epoch 77/200\n",
            "125/125 [==============================] - 8s 66ms/step - loss: 0.0152 - accuracy: 0.9929 - val_loss: 0.7352 - val_accuracy: 0.8845\n",
            "Epoch 78/200\n",
            "125/125 [==============================] - 8s 65ms/step - loss: 0.0182 - accuracy: 0.9916 - val_loss: 0.7011 - val_accuracy: 0.8930\n",
            "Epoch 79/200\n",
            "125/125 [==============================] - 8s 66ms/step - loss: 0.0168 - accuracy: 0.9926 - val_loss: 0.7710 - val_accuracy: 0.8855\n",
            "Epoch 80/200\n",
            "125/125 [==============================] - 8s 66ms/step - loss: 0.0142 - accuracy: 0.9936 - val_loss: 0.7848 - val_accuracy: 0.8865\n",
            "Epoch 81/200\n",
            "125/125 [==============================] - 8s 65ms/step - loss: 0.0137 - accuracy: 0.9936 - val_loss: 0.7648 - val_accuracy: 0.8830\n",
            "Epoch 82/200\n",
            "125/125 [==============================] - 8s 66ms/step - loss: 0.0168 - accuracy: 0.9936 - val_loss: 0.6504 - val_accuracy: 0.8910\n",
            "Epoch 83/200\n",
            "125/125 [==============================] - 8s 67ms/step - loss: 0.0148 - accuracy: 0.9934 - val_loss: 0.7170 - val_accuracy: 0.8855\n",
            "Epoch 84/200\n",
            "125/125 [==============================] - 8s 65ms/step - loss: 0.0130 - accuracy: 0.9939 - val_loss: 0.7956 - val_accuracy: 0.8870\n",
            "Epoch 85/200\n",
            "125/125 [==============================] - 8s 68ms/step - loss: 0.0138 - accuracy: 0.9941 - val_loss: 0.7554 - val_accuracy: 0.8900\n",
            "Epoch 86/200\n",
            "125/125 [==============================] - 8s 65ms/step - loss: 0.0131 - accuracy: 0.9939 - val_loss: 0.8039 - val_accuracy: 0.8900\n",
            "Epoch 87/200\n",
            "125/125 [==============================] - 8s 66ms/step - loss: 0.0122 - accuracy: 0.9941 - val_loss: 0.8387 - val_accuracy: 0.8855\n",
            "Epoch 88/200\n",
            "125/125 [==============================] - 8s 66ms/step - loss: 0.0120 - accuracy: 0.9942 - val_loss: 0.8768 - val_accuracy: 0.8890\n",
            "Epoch 89/200\n",
            "125/125 [==============================] - 8s 66ms/step - loss: 0.0139 - accuracy: 0.9940 - val_loss: 0.7873 - val_accuracy: 0.8850\n",
            "Epoch 90/200\n",
            "125/125 [==============================] - 8s 66ms/step - loss: 0.0130 - accuracy: 0.9940 - val_loss: 0.7160 - val_accuracy: 0.8885\n",
            "Epoch 91/200\n",
            "125/125 [==============================] - 8s 67ms/step - loss: 0.0152 - accuracy: 0.9934 - val_loss: 0.7884 - val_accuracy: 0.8875\n",
            "Epoch 92/200\n",
            "125/125 [==============================] - 8s 65ms/step - loss: 0.0167 - accuracy: 0.9930 - val_loss: 0.7455 - val_accuracy: 0.8855\n",
            "Epoch 93/200\n",
            "125/125 [==============================] - 8s 65ms/step - loss: 0.0149 - accuracy: 0.9937 - val_loss: 0.7719 - val_accuracy: 0.8885\n",
            "Epoch 94/200\n",
            "125/125 [==============================] - 8s 66ms/step - loss: 0.0131 - accuracy: 0.9937 - val_loss: 0.7738 - val_accuracy: 0.8840\n",
            "Epoch 95/200\n",
            "125/125 [==============================] - 8s 66ms/step - loss: 0.0175 - accuracy: 0.9931 - val_loss: 0.6797 - val_accuracy: 0.8910\n",
            "Epoch 96/200\n",
            "125/125 [==============================] - 8s 67ms/step - loss: 0.0139 - accuracy: 0.9935 - val_loss: 0.7034 - val_accuracy: 0.8905\n",
            "Epoch 97/200\n",
            "125/125 [==============================] - 8s 67ms/step - loss: 0.0124 - accuracy: 0.9941 - val_loss: 0.7699 - val_accuracy: 0.8935\n",
            "Epoch 98/200\n",
            "125/125 [==============================] - 8s 65ms/step - loss: 0.0142 - accuracy: 0.9938 - val_loss: 0.7347 - val_accuracy: 0.8835\n",
            "Epoch 99/200\n",
            "125/125 [==============================] - 8s 66ms/step - loss: 0.0137 - accuracy: 0.9936 - val_loss: 0.8011 - val_accuracy: 0.8840\n",
            "Epoch 100/200\n",
            "125/125 [==============================] - 8s 66ms/step - loss: 0.0126 - accuracy: 0.9938 - val_loss: 0.7751 - val_accuracy: 0.8875\n",
            "Epoch 101/200\n",
            "125/125 [==============================] - 8s 66ms/step - loss: 0.0136 - accuracy: 0.9937 - val_loss: 0.8305 - val_accuracy: 0.8890\n",
            "Epoch 102/200\n",
            "125/125 [==============================] - 8s 66ms/step - loss: 0.0137 - accuracy: 0.9942 - val_loss: 0.7753 - val_accuracy: 0.8905\n",
            "Epoch 103/200\n",
            "125/125 [==============================] - 8s 66ms/step - loss: 0.0120 - accuracy: 0.9943 - val_loss: 0.8119 - val_accuracy: 0.8930\n",
            "Epoch 104/200\n",
            "125/125 [==============================] - 8s 67ms/step - loss: 0.0125 - accuracy: 0.9939 - val_loss: 0.8264 - val_accuracy: 0.8910\n",
            "Epoch 105/200\n",
            "125/125 [==============================] - 8s 66ms/step - loss: 0.0114 - accuracy: 0.9947 - val_loss: 0.8254 - val_accuracy: 0.8935\n",
            "Epoch 106/200\n",
            "125/125 [==============================] - 8s 67ms/step - loss: 0.0119 - accuracy: 0.9945 - val_loss: 0.8594 - val_accuracy: 0.8955\n",
            "Epoch 107/200\n",
            "125/125 [==============================] - 8s 66ms/step - loss: 0.0112 - accuracy: 0.9948 - val_loss: 0.8624 - val_accuracy: 0.8940\n",
            "Epoch 108/200\n",
            "125/125 [==============================] - 9s 68ms/step - loss: 0.0112 - accuracy: 0.9944 - val_loss: 0.9152 - val_accuracy: 0.8910\n",
            "Epoch 109/200\n",
            "125/125 [==============================] - 8s 65ms/step - loss: 0.0116 - accuracy: 0.9941 - val_loss: 0.9366 - val_accuracy: 0.8925\n",
            "Epoch 110/200\n",
            "125/125 [==============================] - 8s 66ms/step - loss: 0.0132 - accuracy: 0.9937 - val_loss: 0.7422 - val_accuracy: 0.8875\n",
            "Epoch 111/200\n",
            "125/125 [==============================] - 8s 67ms/step - loss: 0.0169 - accuracy: 0.9929 - val_loss: 0.8023 - val_accuracy: 0.8885\n",
            "Epoch 112/200\n",
            "125/125 [==============================] - 8s 66ms/step - loss: 0.0126 - accuracy: 0.9941 - val_loss: 0.8170 - val_accuracy: 0.8905\n",
            "Epoch 113/200\n",
            "125/125 [==============================] - 8s 66ms/step - loss: 0.0172 - accuracy: 0.9923 - val_loss: 0.7155 - val_accuracy: 0.8930\n",
            "Epoch 114/200\n",
            "125/125 [==============================] - 8s 66ms/step - loss: 0.0128 - accuracy: 0.9938 - val_loss: 0.7360 - val_accuracy: 0.8920\n",
            "Epoch 115/200\n",
            "125/125 [==============================] - 8s 66ms/step - loss: 0.0145 - accuracy: 0.9939 - val_loss: 0.8284 - val_accuracy: 0.8880\n",
            "Epoch 116/200\n",
            "125/125 [==============================] - 8s 66ms/step - loss: 0.0204 - accuracy: 0.9922 - val_loss: 0.6911 - val_accuracy: 0.8955\n",
            "Epoch 117/200\n",
            "125/125 [==============================] - 8s 67ms/step - loss: 0.0142 - accuracy: 0.9937 - val_loss: 0.7238 - val_accuracy: 0.8965\n",
            "Epoch 118/200\n",
            "125/125 [==============================] - 8s 66ms/step - loss: 0.0126 - accuracy: 0.9939 - val_loss: 0.7691 - val_accuracy: 0.8970\n",
            "Epoch 119/200\n",
            "125/125 [==============================] - 8s 66ms/step - loss: 0.0124 - accuracy: 0.9938 - val_loss: 0.7596 - val_accuracy: 0.8970\n",
            "Epoch 120/200\n",
            "125/125 [==============================] - 8s 66ms/step - loss: 0.0117 - accuracy: 0.9942 - val_loss: 0.7664 - val_accuracy: 0.9005\n",
            "Epoch 121/200\n",
            "125/125 [==============================] - 8s 66ms/step - loss: 0.0116 - accuracy: 0.9945 - val_loss: 0.7780 - val_accuracy: 0.8985\n",
            "Epoch 122/200\n",
            "125/125 [==============================] - 8s 67ms/step - loss: 0.0126 - accuracy: 0.9942 - val_loss: 0.7626 - val_accuracy: 0.8935\n",
            "Epoch 123/200\n",
            "125/125 [==============================] - 8s 66ms/step - loss: 0.0115 - accuracy: 0.9941 - val_loss: 0.7902 - val_accuracy: 0.8980\n",
            "Epoch 124/200\n",
            "125/125 [==============================] - 8s 66ms/step - loss: 0.0119 - accuracy: 0.9942 - val_loss: 0.7795 - val_accuracy: 0.8990\n",
            "Epoch 125/200\n",
            "125/125 [==============================] - 8s 66ms/step - loss: 0.0120 - accuracy: 0.9941 - val_loss: 0.7932 - val_accuracy: 0.8965\n",
            "Epoch 126/200\n",
            "125/125 [==============================] - 8s 66ms/step - loss: 0.0118 - accuracy: 0.9941 - val_loss: 0.7257 - val_accuracy: 0.8985\n",
            "Epoch 127/200\n",
            "125/125 [==============================] - 8s 67ms/step - loss: 0.0177 - accuracy: 0.9928 - val_loss: 0.6919 - val_accuracy: 0.8920\n",
            "Epoch 128/200\n",
            "125/125 [==============================] - 8s 66ms/step - loss: 0.0140 - accuracy: 0.9939 - val_loss: 0.6615 - val_accuracy: 0.8955\n",
            "Epoch 129/200\n",
            "125/125 [==============================] - 8s 66ms/step - loss: 0.0117 - accuracy: 0.9943 - val_loss: 0.7419 - val_accuracy: 0.8985\n",
            "Epoch 130/200\n",
            "125/125 [==============================] - 8s 66ms/step - loss: 0.0110 - accuracy: 0.9948 - val_loss: 0.7823 - val_accuracy: 0.9005\n",
            "Epoch 131/200\n",
            "125/125 [==============================] - 8s 66ms/step - loss: 0.0114 - accuracy: 0.9947 - val_loss: 0.7621 - val_accuracy: 0.8970\n",
            "Epoch 132/200\n",
            "125/125 [==============================] - 8s 66ms/step - loss: 0.0118 - accuracy: 0.9942 - val_loss: 0.7280 - val_accuracy: 0.8965\n",
            "Epoch 133/200\n",
            "125/125 [==============================] - 8s 66ms/step - loss: 0.0117 - accuracy: 0.9941 - val_loss: 0.7488 - val_accuracy: 0.8980\n",
            "Epoch 134/200\n",
            "125/125 [==============================] - 8s 66ms/step - loss: 0.0110 - accuracy: 0.9948 - val_loss: 0.7817 - val_accuracy: 0.8990\n",
            "Epoch 135/200\n",
            "125/125 [==============================] - 8s 66ms/step - loss: 0.0109 - accuracy: 0.9941 - val_loss: 0.7947 - val_accuracy: 0.8995\n",
            "Epoch 136/200\n",
            "125/125 [==============================] - 8s 66ms/step - loss: 0.0110 - accuracy: 0.9942 - val_loss: 0.8808 - val_accuracy: 0.8955\n",
            "Epoch 137/200\n",
            "125/125 [==============================] - 8s 66ms/step - loss: 0.0121 - accuracy: 0.9942 - val_loss: 0.7612 - val_accuracy: 0.9025\n",
            "Epoch 138/200\n",
            "125/125 [==============================] - 8s 66ms/step - loss: 0.0120 - accuracy: 0.9941 - val_loss: 0.7158 - val_accuracy: 0.9015\n",
            "Epoch 139/200\n",
            "125/125 [==============================] - 8s 66ms/step - loss: 0.0108 - accuracy: 0.9946 - val_loss: 0.8041 - val_accuracy: 0.9000\n",
            "Epoch 140/200\n",
            "125/125 [==============================] - 8s 68ms/step - loss: 0.0108 - accuracy: 0.9942 - val_loss: 0.8243 - val_accuracy: 0.8990\n",
            "Epoch 141/200\n",
            "125/125 [==============================] - 8s 66ms/step - loss: 0.0110 - accuracy: 0.9948 - val_loss: 0.8049 - val_accuracy: 0.8965\n",
            "Epoch 142/200\n",
            "125/125 [==============================] - 8s 66ms/step - loss: 0.0115 - accuracy: 0.9940 - val_loss: 0.8239 - val_accuracy: 0.8970\n",
            "Epoch 143/200\n",
            "125/125 [==============================] - 8s 66ms/step - loss: 0.0161 - accuracy: 0.9933 - val_loss: 0.7026 - val_accuracy: 0.8920\n",
            "Epoch 144/200\n",
            "125/125 [==============================] - 8s 66ms/step - loss: 0.0141 - accuracy: 0.9939 - val_loss: 0.6881 - val_accuracy: 0.8975\n",
            "Epoch 145/200\n",
            "125/125 [==============================] - 8s 66ms/step - loss: 0.0137 - accuracy: 0.9936 - val_loss: 0.7185 - val_accuracy: 0.8990\n",
            "Epoch 146/200\n",
            "125/125 [==============================] - 8s 66ms/step - loss: 0.0111 - accuracy: 0.9943 - val_loss: 0.7575 - val_accuracy: 0.8970\n",
            "Epoch 147/200\n",
            "125/125 [==============================] - 8s 66ms/step - loss: 0.0113 - accuracy: 0.9944 - val_loss: 0.7896 - val_accuracy: 0.8990\n",
            "Epoch 148/200\n",
            "125/125 [==============================] - 8s 66ms/step - loss: 0.0140 - accuracy: 0.9933 - val_loss: 0.7093 - val_accuracy: 0.9010\n",
            "Epoch 149/200\n",
            "125/125 [==============================] - 8s 66ms/step - loss: 0.0117 - accuracy: 0.9942 - val_loss: 0.7127 - val_accuracy: 0.9025\n",
            "Epoch 150/200\n",
            "125/125 [==============================] - 8s 67ms/step - loss: 0.0111 - accuracy: 0.9945 - val_loss: 0.7764 - val_accuracy: 0.9045\n",
            "Epoch 151/200\n",
            "125/125 [==============================] - 8s 66ms/step - loss: 0.0107 - accuracy: 0.9945 - val_loss: 0.8013 - val_accuracy: 0.9040\n",
            "Epoch 152/200\n",
            "125/125 [==============================] - 8s 66ms/step - loss: 0.0109 - accuracy: 0.9942 - val_loss: 0.8088 - val_accuracy: 0.8980\n",
            "Epoch 153/200\n",
            "125/125 [==============================] - 8s 66ms/step - loss: 0.0107 - accuracy: 0.9942 - val_loss: 0.8331 - val_accuracy: 0.8990\n",
            "Epoch 154/200\n",
            "125/125 [==============================] - 8s 66ms/step - loss: 0.0107 - accuracy: 0.9943 - val_loss: 0.8244 - val_accuracy: 0.8970\n",
            "Epoch 155/200\n",
            "125/125 [==============================] - 8s 66ms/step - loss: 0.0105 - accuracy: 0.9946 - val_loss: 0.8589 - val_accuracy: 0.8990\n",
            "Epoch 156/200\n",
            "125/125 [==============================] - 8s 66ms/step - loss: 0.0107 - accuracy: 0.9945 - val_loss: 0.9060 - val_accuracy: 0.8990\n",
            "Epoch 157/200\n",
            "125/125 [==============================] - 8s 66ms/step - loss: 0.0111 - accuracy: 0.9942 - val_loss: 0.9019 - val_accuracy: 0.8990\n",
            "Epoch 158/200\n",
            "125/125 [==============================] - 8s 66ms/step - loss: 0.0115 - accuracy: 0.9942 - val_loss: 0.8530 - val_accuracy: 0.9000\n",
            "Epoch 159/200\n",
            "125/125 [==============================] - 8s 66ms/step - loss: 0.0111 - accuracy: 0.9942 - val_loss: 0.8454 - val_accuracy: 0.9005\n",
            "Epoch 160/200\n",
            "125/125 [==============================] - 8s 66ms/step - loss: 0.0108 - accuracy: 0.9945 - val_loss: 0.8995 - val_accuracy: 0.8965\n",
            "Epoch 161/200\n",
            "125/125 [==============================] - 8s 66ms/step - loss: 0.0107 - accuracy: 0.9946 - val_loss: 0.8858 - val_accuracy: 0.8980\n",
            "Epoch 162/200\n",
            "125/125 [==============================] - 8s 66ms/step - loss: 0.0109 - accuracy: 0.9944 - val_loss: 0.9320 - val_accuracy: 0.8990\n",
            "Epoch 163/200\n",
            "125/125 [==============================] - 8s 66ms/step - loss: 0.0123 - accuracy: 0.9944 - val_loss: 0.9180 - val_accuracy: 0.9005\n",
            "Epoch 164/200\n",
            "125/125 [==============================] - 8s 66ms/step - loss: 0.0108 - accuracy: 0.9943 - val_loss: 0.9565 - val_accuracy: 0.8970\n",
            "Epoch 165/200\n",
            "125/125 [==============================] - 9s 68ms/step - loss: 0.0104 - accuracy: 0.9944 - val_loss: 0.9657 - val_accuracy: 0.8985\n",
            "Epoch 166/200\n",
            "125/125 [==============================] - 8s 66ms/step - loss: 0.0113 - accuracy: 0.9945 - val_loss: 0.9519 - val_accuracy: 0.8965\n",
            "Epoch 167/200\n",
            "125/125 [==============================] - 8s 66ms/step - loss: 0.0116 - accuracy: 0.9942 - val_loss: 0.8970 - val_accuracy: 0.8910\n",
            "Epoch 168/200\n",
            "125/125 [==============================] - 8s 66ms/step - loss: 0.0150 - accuracy: 0.9926 - val_loss: 0.7212 - val_accuracy: 0.8915\n",
            "Epoch 169/200\n",
            "125/125 [==============================] - 8s 67ms/step - loss: 0.0119 - accuracy: 0.9941 - val_loss: 0.8116 - val_accuracy: 0.8925\n",
            "Epoch 170/200\n",
            "125/125 [==============================] - 8s 66ms/step - loss: 0.0149 - accuracy: 0.9939 - val_loss: 0.7666 - val_accuracy: 0.8945\n",
            "Epoch 171/200\n",
            "125/125 [==============================] - 8s 66ms/step - loss: 0.0123 - accuracy: 0.9941 - val_loss: 0.7725 - val_accuracy: 0.9000\n",
            "Epoch 172/200\n",
            "125/125 [==============================] - 8s 66ms/step - loss: 0.0108 - accuracy: 0.9946 - val_loss: 0.8012 - val_accuracy: 0.8965\n",
            "Epoch 173/200\n",
            "125/125 [==============================] - 8s 66ms/step - loss: 0.0106 - accuracy: 0.9950 - val_loss: 0.8166 - val_accuracy: 0.9000\n",
            "Epoch 174/200\n",
            "125/125 [==============================] - 8s 66ms/step - loss: 0.0113 - accuracy: 0.9941 - val_loss: 0.8263 - val_accuracy: 0.8970\n",
            "Epoch 175/200\n",
            "125/125 [==============================] - 8s 66ms/step - loss: 0.0107 - accuracy: 0.9946 - val_loss: 0.8324 - val_accuracy: 0.8970\n",
            "Epoch 176/200\n",
            "125/125 [==============================] - 8s 66ms/step - loss: 0.0105 - accuracy: 0.9946 - val_loss: 0.8399 - val_accuracy: 0.9025\n",
            "Epoch 177/200\n",
            "125/125 [==============================] - 8s 66ms/step - loss: 0.0107 - accuracy: 0.9944 - val_loss: 0.8527 - val_accuracy: 0.9030\n",
            "Epoch 178/200\n",
            "125/125 [==============================] - 9s 68ms/step - loss: 0.0104 - accuracy: 0.9944 - val_loss: 0.8673 - val_accuracy: 0.9020\n",
            "Epoch 179/200\n",
            "125/125 [==============================] - 8s 66ms/step - loss: 0.0103 - accuracy: 0.9944 - val_loss: 0.8695 - val_accuracy: 0.9020\n",
            "Epoch 180/200\n",
            "125/125 [==============================] - 9s 69ms/step - loss: 0.0104 - accuracy: 0.9945 - val_loss: 0.8576 - val_accuracy: 0.9015\n",
            "Epoch 181/200\n",
            "125/125 [==============================] - 8s 66ms/step - loss: 0.0112 - accuracy: 0.9941 - val_loss: 0.8205 - val_accuracy: 0.8990\n",
            "Epoch 182/200\n",
            "125/125 [==============================] - 8s 66ms/step - loss: 0.0132 - accuracy: 0.9940 - val_loss: 0.7831 - val_accuracy: 0.8980\n",
            "Epoch 183/200\n",
            "125/125 [==============================] - 8s 66ms/step - loss: 0.0125 - accuracy: 0.9939 - val_loss: 0.7012 - val_accuracy: 0.9045\n",
            "Epoch 184/200\n",
            "125/125 [==============================] - 8s 66ms/step - loss: 0.0111 - accuracy: 0.9944 - val_loss: 0.7327 - val_accuracy: 0.9010\n",
            "Epoch 185/200\n",
            "125/125 [==============================] - 8s 66ms/step - loss: 0.0116 - accuracy: 0.9942 - val_loss: 0.7866 - val_accuracy: 0.9010\n",
            "Epoch 186/200\n",
            "125/125 [==============================] - 9s 72ms/step - loss: 0.0122 - accuracy: 0.9942 - val_loss: 0.7396 - val_accuracy: 0.9050\n",
            "Epoch 187/200\n",
            "125/125 [==============================] - 8s 68ms/step - loss: 0.0118 - accuracy: 0.9943 - val_loss: 0.6676 - val_accuracy: 0.9030\n",
            "Epoch 188/200\n",
            "125/125 [==============================] - 8s 66ms/step - loss: 0.0106 - accuracy: 0.9942 - val_loss: 0.7551 - val_accuracy: 0.9050\n",
            "Epoch 189/200\n",
            "125/125 [==============================] - 8s 67ms/step - loss: 0.0113 - accuracy: 0.9948 - val_loss: 0.7545 - val_accuracy: 0.9055\n",
            "Epoch 190/200\n",
            "125/125 [==============================] - 8s 68ms/step - loss: 0.0104 - accuracy: 0.9944 - val_loss: 0.7641 - val_accuracy: 0.9080\n",
            "Epoch 191/200\n",
            "125/125 [==============================] - 8s 67ms/step - loss: 0.0105 - accuracy: 0.9947 - val_loss: 0.7426 - val_accuracy: 0.9095\n",
            "Epoch 192/200\n",
            "125/125 [==============================] - 8s 67ms/step - loss: 0.0103 - accuracy: 0.9944 - val_loss: 0.7720 - val_accuracy: 0.9100\n",
            "Epoch 193/200\n",
            "125/125 [==============================] - 8s 68ms/step - loss: 0.0102 - accuracy: 0.9949 - val_loss: 0.7833 - val_accuracy: 0.9070\n",
            "Epoch 194/200\n",
            "125/125 [==============================] - 8s 67ms/step - loss: 0.0103 - accuracy: 0.9944 - val_loss: 0.8010 - val_accuracy: 0.9095\n",
            "Epoch 195/200\n",
            "125/125 [==============================] - 9s 69ms/step - loss: 0.0103 - accuracy: 0.9944 - val_loss: 0.8023 - val_accuracy: 0.9105\n",
            "Epoch 196/200\n",
            "125/125 [==============================] - 9s 70ms/step - loss: 0.0103 - accuracy: 0.9945 - val_loss: 0.8118 - val_accuracy: 0.9080\n",
            "Epoch 197/200\n",
            "125/125 [==============================] - 8s 66ms/step - loss: 0.0104 - accuracy: 0.9944 - val_loss: 0.8133 - val_accuracy: 0.9085\n",
            "Epoch 198/200\n",
            "125/125 [==============================] - 8s 66ms/step - loss: 0.0103 - accuracy: 0.9946 - val_loss: 0.8308 - val_accuracy: 0.9090\n",
            "Epoch 199/200\n",
            "125/125 [==============================] - 8s 68ms/step - loss: 0.0136 - accuracy: 0.9939 - val_loss: 0.7381 - val_accuracy: 0.9040\n",
            "Epoch 200/200\n",
            "125/125 [==============================] - 8s 67ms/step - loss: 0.0180 - accuracy: 0.9931 - val_loss: 0.5857 - val_accuracy: 0.9095\n"
          ]
        }
      ],
      "source": [
        "model.compile(optimizer=Adam(learning_rate=0.001),\n",
        "              loss='categorical_crossentropy',\n",
        "              metrics=['accuracy'])\n",
        "history = model.fit(X_train, dmy_y_train,\n",
        "                    epochs=200, \n",
        "                    verbose=1,\n",
        "                    validation_data=(X_test, dmy_y_test),\n",
        "                    batch_size=128)"
      ]
    },
    {
      "cell_type": "markdown",
      "metadata": {
        "id": "6Jf_VY5UPAAx"
      },
      "source": [
        "# Save Model"
      ]
    },
    {
      "cell_type": "code",
      "execution_count": null,
      "metadata": {
        "colab": {
          "base_uri": "https://localhost:8080/"
        },
        "id": "JYMqvboxPB5T",
        "outputId": "620fd52f-6166-4a15-bac9-75742667e545"
      },
      "outputs": [
        {
          "output_type": "stream",
          "name": "stderr",
          "text": [
            "WARNING:absl:Found untraced functions such as lstm_cell_7_layer_call_fn, lstm_cell_7_layer_call_and_return_conditional_losses, lstm_cell_8_layer_call_fn, lstm_cell_8_layer_call_and_return_conditional_losses, lstm_cell_10_layer_call_fn while saving (showing 5 of 8). These functions will not be directly callable after loading.\n"
          ]
        }
      ],
      "source": [
        "import pathlib\n",
        "export_dir = 'saved_model/'\n",
        "tf.saved_model.save(model, export_dir)"
      ]
    },
    {
      "cell_type": "markdown",
      "source": [
        "# Evaluation"
      ],
      "metadata": {
        "id": "K7Z79aD0qcuZ"
      }
    },
    {
      "cell_type": "code",
      "source": [
        "plt.plot(history.history['loss'])\n",
        "plt.plot(history.history['val_loss'])\n",
        "plt.title('Model Loss')\n",
        "plt.ylabel('Loss')\n",
        "plt.xlabel('Epochs')\n",
        "plt.legend(['train', 'test'], loc = 'upper right')\n",
        "plt.show()\n",
        "\n",
        "plt.plot(history.history['accuracy'])\n",
        "plt.plot(history.history['val_accuracy'])\n",
        "plt.title('Model Accuracy')\n",
        "plt.ylabel('Accuracy')\n",
        "plt.xlabel('Epoch')\n",
        "plt.legend(['train', 'test'], loc='lower right')\n",
        "plt.show()"
      ],
      "metadata": {
        "colab": {
          "base_uri": "https://localhost:8080/",
          "height": 573
        },
        "id": "pfHdTl6sqeeY",
        "outputId": "69f41caa-5081-45fd-dfd1-134269806f67"
      },
      "execution_count": null,
      "outputs": [
        {
          "output_type": "display_data",
          "data": {
            "text/plain": [
              "<Figure size 432x288 with 1 Axes>"
            ],
            "image/png": "[encoded data removed]"
          },
          "metadata": {
            "needs_background": "light"
          }
        },
        {
          "output_type": "display_data",
          "data": {
            "text/plain": [
              "<Figure size 432x288 with 1 Axes>"
            ],
            "image/png": "[encoded data removed]"
          },
          "metadata": {
            "needs_background": "light"
          }
        }
      ]
    },
    {
      "cell_type": "code",
      "source": [
        "predict = model.predict(X_val)\n",
        "predict_class = np.argmax(predict, axis=1)\n",
        "predict_class = np.array(predict_class)\n",
        "predict_class"
      ],
      "metadata": {
        "colab": {
          "base_uri": "https://localhost:8080/"
        },
        "id": "H5KKjMtGrLUG",
        "outputId": "ce314918-6adf-43ca-a288-960eb471a8a9"
      },
      "execution_count": null,
      "outputs": [
        {
          "output_type": "stream",
          "name": "stdout",
          "text": [
            "63/63 [==============================] - 3s 15ms/step\n"
          ]
        },
        {
          "output_type": "execute_result",
          "data": {
            "text/plain": [
              "array([4, 4, 4, ..., 2, 2, 5])"
            ]
          },
          "metadata": {},
          "execution_count": 43
        }
      ]
    },
    {
      "cell_type": "code",
      "source": [
        "from sklearn.metrics import classification_report\n",
        "print(classification_report(test_df[\"encoded_label\"], predict_class, target_names =[\"anger\", \"fear\", \"joy\", \"love\", \"sadness\", \"surprise\"]))"
      ],
      "metadata": {
        "colab": {
          "base_uri": "https://localhost:8080/"
        },
        "id": "izYeEmjJqq5W",
        "outputId": "aed1b76e-182b-42f1-fb53-58e716318b38"
      },
      "execution_count": null,
      "outputs": [
        {
          "output_type": "stream",
          "name": "stdout",
          "text": [
            "              precision    recall  f1-score   support\n",
            "\n",
            "       anger       0.91      0.88      0.89       275\n",
            "        fear       0.89      0.86      0.88       224\n",
            "         joy       0.92      0.92      0.92       695\n",
            "        love       0.71      0.81      0.76       159\n",
            "     sadness       0.93      0.94      0.94       581\n",
            "    surprise       0.82      0.71      0.76        66\n",
            "\n",
            "    accuracy                           0.90      2000\n",
            "   macro avg       0.86      0.85      0.86      2000\n",
            "weighted avg       0.90      0.90      0.90      2000\n",
            "\n"
          ]
        }
      ]
    }
  ],
  "metadata": {
    "accelerator": "GPU",
    "colab": {
      "provenance": [],
      "collapsed_sections": [
        "PfmdSYAB121g"
      ]
    },
    "gpuClass": "standard",
    "kernelspec": {
      "display_name": "Python 3",
      "name": "python3"
    },
    "language_info": {
      "name": "python"
    }
  },
  "nbformat": 4,
  "nbformat_minor": 0
}